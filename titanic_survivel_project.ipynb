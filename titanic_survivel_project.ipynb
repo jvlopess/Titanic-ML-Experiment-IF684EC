{
  "cells": [
    {
      "cell_type": "markdown",
      "metadata": {},
      "source": [
        "## Introdução\n",
        "Este projeto tem como objetivo realizar uma análise experimental detalhada utilizando técnicas de aprendizado de máquina para prever sobreviventes do desastre do Titanic, utilizando o famoso dataset \"Titanic - Machine Learning from Disaster\". O foco principal será na variação de parâmetros essenciais no treinamento de modelos, garantindo uma abordagem sistemática e rigorosa para otimizar o desempenho preditivo.\n",
        "\n",
        "Objetivos do Projeto\n",
        "- Explorar e comparar diferentes configurações de redes neurais, incluindo variações no número de camadas intermediárias (1 ou 2), inicialmente optando por redes menores para evitar - complexidade desnecessária.\n",
        "- Investigar o impacto de diferentes taxas de aprendizagem, funções de ativação e otimizadores nos resultados preditivos.\n",
        "- Garantir que os dados estejam normalizados para facilitar o treinamento e melhorar a convergência dos modelos (usando normalização Min-Max quando necessário).\n",
        "- Avaliar o desempenho dos modelos utilizando métricas padrão como Acurácia, Precision e Recall.\n",
        "- Documentar todos os experimentos de forma clara e reproducível, entregando tanto o notebook Jupyter quanto o relatório em PDF com análises detalhadas e conclusões.\n",
        "- Participantes do Projeto\n",
        "\n",
        "#### **Este projeto é realizado pelos seguintes participantes**:\n",
        "\n",
        "- Alberto Guevara (agaf2)\n",
        "- Felipe Ferreira da Silva Santos (ffss)      \n",
        "- Heitor de Assis Machado (ham5)\n",
        "- João Victor Lopes (jvcl)\n",
        "- Matheus Veras Batista (mvb2)"
      ]
    },
    {
      "cell_type": "markdown",
      "metadata": {
        "id": "OgQL1gvBxEVp"
      },
      "source": [
        "## Import Libraries\n"
      ]
    },
    {
      "cell_type": "code",
      "execution_count": 4,
      "metadata": {
        "id": "jQVhsXF4vTQv"
      },
      "outputs": [],
      "source": [
        "import pandas as pd\n",
        "import numpy as np\n",
        "import matplotlib.pyplot as plt\n",
        "import seaborn as sns\n",
        "\n",
        "from sklearn.neural_network import MLPClassifier\n",
        "from sklearn.metrics import accuracy_score, precision_score, recall_score\n",
        "from sklearn.model_selection import train_test_split\n",
        "from sklearn.preprocessing import MinMaxScaler"
      ]
    },
    {
      "cell_type": "markdown",
      "metadata": {
        "id": "q9veo6F5cvl7"
      },
      "source": [
        "## Processamento dos dados\n",
        "Carregamos o dataset do Titanic a partir de um arquivo CSV localizado em um diretório específico. Para que o notebook funcione em qualquer ambiente, é importante usar um caminho relativo:"
      ]
    },
    {
      "cell_type": "code",
      "execution_count": 5,
      "metadata": {
        "colab": {
          "base_uri": "https://localhost:8080/"
        },
        "id": "oT2U8tkdfJ0Q",
        "outputId": "8ab76ad9-0a29-4873-9411-535ca07fdb9e"
      },
      "outputs": [],
      "source": [
        "import os\n",
        "from pathlib import Path\n",
        "import pandas as pd\n",
        "\n",
        "# Verifica se está no Google Colab\n",
        "if 'google.colab' in str(get_ipython()):\n",
        "    from google.colab import drive\n",
        "    drive.mount('/content/drive')\n",
        "    base_path = Path('/content/drive/My Drive/Titanic-ML-Experiment/data')\n",
        "else:\n",
        "    base_path = Path().absolute() / 'data'\n",
        "\n",
        "# Caminhos dos arquivos de dados\n",
        "train_path = base_path / 'train.csv'"
      ]
    },
    {
      "cell_type": "code",
      "execution_count": 6,
      "metadata": {
        "id": "0-7pIp1Vcvl7"
      },
      "outputs": [],
      "source": [
        "# Tratamento dos Dados\n",
        "titanic_data = pd.read_csv(train_path)"
      ]
    },
    {
      "cell_type": "code",
      "execution_count": 7,
      "metadata": {
        "colab": {
          "base_uri": "https://localhost:8080/",
          "height": 206
        },
        "id": "9-f0e9_Wcvl7",
        "outputId": "ba86bb19-bf16-41fb-db33-1873e6d1b23d"
      },
      "outputs": [
        {
          "data": {
            "text/html": [
              "<div>\n",
              "<style scoped>\n",
              "    .dataframe tbody tr th:only-of-type {\n",
              "        vertical-align: middle;\n",
              "    }\n",
              "\n",
              "    .dataframe tbody tr th {\n",
              "        vertical-align: top;\n",
              "    }\n",
              "\n",
              "    .dataframe thead th {\n",
              "        text-align: right;\n",
              "    }\n",
              "</style>\n",
              "<table border=\"1\" class=\"dataframe\">\n",
              "  <thead>\n",
              "    <tr style=\"text-align: right;\">\n",
              "      <th></th>\n",
              "      <th>PassengerId</th>\n",
              "      <th>Survived</th>\n",
              "      <th>Pclass</th>\n",
              "      <th>Name</th>\n",
              "      <th>Sex</th>\n",
              "      <th>Age</th>\n",
              "      <th>SibSp</th>\n",
              "      <th>Parch</th>\n",
              "      <th>Ticket</th>\n",
              "      <th>Fare</th>\n",
              "      <th>Cabin</th>\n",
              "      <th>Embarked</th>\n",
              "    </tr>\n",
              "  </thead>\n",
              "  <tbody>\n",
              "    <tr>\n",
              "      <th>0</th>\n",
              "      <td>1</td>\n",
              "      <td>0</td>\n",
              "      <td>3</td>\n",
              "      <td>Braund, Mr. Owen Harris</td>\n",
              "      <td>male</td>\n",
              "      <td>22.0</td>\n",
              "      <td>1</td>\n",
              "      <td>0</td>\n",
              "      <td>A/5 21171</td>\n",
              "      <td>7.2500</td>\n",
              "      <td>NaN</td>\n",
              "      <td>S</td>\n",
              "    </tr>\n",
              "    <tr>\n",
              "      <th>1</th>\n",
              "      <td>2</td>\n",
              "      <td>1</td>\n",
              "      <td>1</td>\n",
              "      <td>Cumings, Mrs. John Bradley (Florence Briggs Th...</td>\n",
              "      <td>female</td>\n",
              "      <td>38.0</td>\n",
              "      <td>1</td>\n",
              "      <td>0</td>\n",
              "      <td>PC 17599</td>\n",
              "      <td>71.2833</td>\n",
              "      <td>C85</td>\n",
              "      <td>C</td>\n",
              "    </tr>\n",
              "    <tr>\n",
              "      <th>2</th>\n",
              "      <td>3</td>\n",
              "      <td>1</td>\n",
              "      <td>3</td>\n",
              "      <td>Heikkinen, Miss. Laina</td>\n",
              "      <td>female</td>\n",
              "      <td>26.0</td>\n",
              "      <td>0</td>\n",
              "      <td>0</td>\n",
              "      <td>STON/O2. 3101282</td>\n",
              "      <td>7.9250</td>\n",
              "      <td>NaN</td>\n",
              "      <td>S</td>\n",
              "    </tr>\n",
              "    <tr>\n",
              "      <th>3</th>\n",
              "      <td>4</td>\n",
              "      <td>1</td>\n",
              "      <td>1</td>\n",
              "      <td>Futrelle, Mrs. Jacques Heath (Lily May Peel)</td>\n",
              "      <td>female</td>\n",
              "      <td>35.0</td>\n",
              "      <td>1</td>\n",
              "      <td>0</td>\n",
              "      <td>113803</td>\n",
              "      <td>53.1000</td>\n",
              "      <td>C123</td>\n",
              "      <td>S</td>\n",
              "    </tr>\n",
              "    <tr>\n",
              "      <th>4</th>\n",
              "      <td>5</td>\n",
              "      <td>0</td>\n",
              "      <td>3</td>\n",
              "      <td>Allen, Mr. William Henry</td>\n",
              "      <td>male</td>\n",
              "      <td>35.0</td>\n",
              "      <td>0</td>\n",
              "      <td>0</td>\n",
              "      <td>373450</td>\n",
              "      <td>8.0500</td>\n",
              "      <td>NaN</td>\n",
              "      <td>S</td>\n",
              "    </tr>\n",
              "  </tbody>\n",
              "</table>\n",
              "</div>"
            ],
            "text/plain": [
              "   PassengerId  Survived  Pclass  \\\n",
              "0            1         0       3   \n",
              "1            2         1       1   \n",
              "2            3         1       3   \n",
              "3            4         1       1   \n",
              "4            5         0       3   \n",
              "\n",
              "                                                Name     Sex   Age  SibSp  \\\n",
              "0                            Braund, Mr. Owen Harris    male  22.0      1   \n",
              "1  Cumings, Mrs. John Bradley (Florence Briggs Th...  female  38.0      1   \n",
              "2                             Heikkinen, Miss. Laina  female  26.0      0   \n",
              "3       Futrelle, Mrs. Jacques Heath (Lily May Peel)  female  35.0      1   \n",
              "4                           Allen, Mr. William Henry    male  35.0      0   \n",
              "\n",
              "   Parch            Ticket     Fare Cabin Embarked  \n",
              "0      0         A/5 21171   7.2500   NaN        S  \n",
              "1      0          PC 17599  71.2833   C85        C  \n",
              "2      0  STON/O2. 3101282   7.9250   NaN        S  \n",
              "3      0            113803  53.1000  C123        S  \n",
              "4      0            373450   8.0500   NaN        S  "
            ]
          },
          "execution_count": 7,
          "metadata": {},
          "output_type": "execute_result"
        }
      ],
      "source": [
        "titanic_data.head()"
      ]
    },
    {
      "cell_type": "code",
      "execution_count": 8,
      "metadata": {
        "colab": {
          "base_uri": "https://localhost:8080/"
        },
        "id": "cbxJT-JFcvl8",
        "outputId": "a0bc26f6-c683-4cf0-f509-64abcc46b0d1"
      },
      "outputs": [
        {
          "data": {
            "text/plain": [
              "PassengerId      0\n",
              "Survived         0\n",
              "Pclass           0\n",
              "Name             0\n",
              "Sex              0\n",
              "Age            177\n",
              "SibSp            0\n",
              "Parch            0\n",
              "Ticket           0\n",
              "Fare             0\n",
              "Cabin          687\n",
              "Embarked         2\n",
              "dtype: int64"
            ]
          },
          "execution_count": 8,
          "metadata": {},
          "output_type": "execute_result"
        }
      ],
      "source": [
        "#Analisando o número de dados faltantes por coluna\n",
        "titanic_data.isnull().sum()"
      ]
    },
    {
      "cell_type": "markdown",
      "metadata": {
        "id": "vYuTFDH2cvl8"
      },
      "source": [
        "#### Lidando com os missing values\n",
        "\n",
        "- Removemos a coluna 'Cabin' porque possui muitos valores ausentes, dificultando a imputação ou substituição desses dados de forma confiável.\n",
        "- Preenchemos os valores ausentes na coluna 'Age' com a média das idades, uma técnica comum para lidar com missing values em dados numéricos.\n",
        "- Substituímos os valores ausentes na coluna 'Embarked' pelo valor mais frequente (moda), uma técnica comum para dados categóricos.\n",
        "\n"
      ]
    },
    {
      "cell_type": "code",
      "execution_count": 9,
      "metadata": {
        "id": "gOgLUMQxcvl9"
      },
      "outputs": [],
      "source": [
        "#Vamos retirar a célula 'Cabin'\n",
        "titanic_data = titanic_data.drop('Cabin', axis=1)"
      ]
    },
    {
      "cell_type": "code",
      "execution_count": 10,
      "metadata": {
        "id": "ShLd7gx3cvl9"
      },
      "outputs": [],
      "source": [
        "#Vamos substituir a parte faltante em 'Age' pela média\n",
        "titanic_data['Age'].fillna(titanic_data['Age'].mean(), inplace=True)"
      ]
    },
    {
      "cell_type": "code",
      "execution_count": 11,
      "metadata": {
        "colab": {
          "base_uri": "https://localhost:8080/"
        },
        "id": "odCCuLW2cvl9",
        "outputId": "4284f699-26b2-4361-c056-85c0d857ba8c"
      },
      "outputs": [
        {
          "name": "stdout",
          "output_type": "stream",
          "text": [
            "0    S\n",
            "Name: Embarked, dtype: object\n"
          ]
        }
      ],
      "source": [
        "#Encontrar o valor da moda da coluna 'Embarked'\n",
        "print(titanic_data['Embarked'].mode())"
      ]
    },
    {
      "cell_type": "code",
      "execution_count": 12,
      "metadata": {
        "id": "5lBcx40zcvl-"
      },
      "outputs": [],
      "source": [
        "#Vamos substituir os valores da coluna 'Embarked' pelo valor da moda\n",
        "titanic_data['Embarked'].fillna(titanic_data['Embarked'].mode()[0], inplace=True)"
      ]
    },
    {
      "cell_type": "code",
      "execution_count": 13,
      "metadata": {
        "colab": {
          "base_uri": "https://localhost:8080/"
        },
        "id": "O1Dahsopcvl-",
        "outputId": "f05ade5b-2696-4986-8bc5-79eb4dce443b"
      },
      "outputs": [
        {
          "data": {
            "text/plain": [
              "PassengerId    0\n",
              "Survived       0\n",
              "Pclass         0\n",
              "Name           0\n",
              "Sex            0\n",
              "Age            0\n",
              "SibSp          0\n",
              "Parch          0\n",
              "Ticket         0\n",
              "Fare           0\n",
              "Embarked       0\n",
              "dtype: int64"
            ]
          },
          "execution_count": 13,
          "metadata": {},
          "output_type": "execute_result"
        }
      ],
      "source": [
        "#Checar se ainda existe missing values\n",
        "titanic_data.isnull().sum()"
      ]
    },
    {
      "cell_type": "code",
      "execution_count": 14,
      "metadata": {
        "id": "i6lVQzSlcvl-"
      },
      "outputs": [],
      "source": [
        "#Selecionamos apenas os atributos numericos\n",
        "numeric_data = titanic_data.select_dtypes(include=[np.number])"
      ]
    },
    {
      "cell_type": "code",
      "execution_count": 15,
      "metadata": {
        "colab": {
          "base_uri": "https://localhost:8080/",
          "height": 522
        },
        "id": "Cb-QvUuwcvl-",
        "outputId": "5e32203b-9b3e-42a4-c48e-7b1484f0674c"
      },
      "outputs": [
        {
          "data": {
            "text/plain": [
              "<Axes: >"
            ]
          },
          "execution_count": 15,
          "metadata": {},
          "output_type": "execute_result"
        },
        {
          "data": {
            "image/png": "[encoded data removed]",
            "text/plain": [
              "<Figure size 640x480 with 2 Axes>"
            ]
          },
          "metadata": {},
          "output_type": "display_data"
        }
      ],
      "source": [
        "sns.heatmap(numeric_data.corr(), cmap='YlGnBu')"
      ]
    },
    {
      "cell_type": "markdown",
      "metadata": {
        "id": "c0lCzbArcvl-"
      },
      "source": [
        "#### Fazendo algumas análises no dataset"
      ]
    },
    {
      "cell_type": "code",
      "execution_count": 16,
      "metadata": {
        "colab": {
          "base_uri": "https://localhost:8080/",
          "height": 300
        },
        "id": "7U0jVKK3cvl-",
        "outputId": "ffd2af09-c3fd-45e6-c2ec-0419f67c2e59"
      },
      "outputs": [
        {
          "data": {
            "text/html": [
              "<div>\n",
              "<style scoped>\n",
              "    .dataframe tbody tr th:only-of-type {\n",
              "        vertical-align: middle;\n",
              "    }\n",
              "\n",
              "    .dataframe tbody tr th {\n",
              "        vertical-align: top;\n",
              "    }\n",
              "\n",
              "    .dataframe thead th {\n",
              "        text-align: right;\n",
              "    }\n",
              "</style>\n",
              "<table border=\"1\" class=\"dataframe\">\n",
              "  <thead>\n",
              "    <tr style=\"text-align: right;\">\n",
              "      <th></th>\n",
              "      <th>PassengerId</th>\n",
              "      <th>Survived</th>\n",
              "      <th>Pclass</th>\n",
              "      <th>Age</th>\n",
              "      <th>SibSp</th>\n",
              "      <th>Parch</th>\n",
              "      <th>Fare</th>\n",
              "    </tr>\n",
              "  </thead>\n",
              "  <tbody>\n",
              "    <tr>\n",
              "      <th>count</th>\n",
              "      <td>891.000000</td>\n",
              "      <td>891.000000</td>\n",
              "      <td>891.000000</td>\n",
              "      <td>891.000000</td>\n",
              "      <td>891.000000</td>\n",
              "      <td>891.000000</td>\n",
              "      <td>891.000000</td>\n",
              "    </tr>\n",
              "    <tr>\n",
              "      <th>mean</th>\n",
              "      <td>446.000000</td>\n",
              "      <td>0.383838</td>\n",
              "      <td>2.308642</td>\n",
              "      <td>29.699118</td>\n",
              "      <td>0.523008</td>\n",
              "      <td>0.381594</td>\n",
              "      <td>32.204208</td>\n",
              "    </tr>\n",
              "    <tr>\n",
              "      <th>std</th>\n",
              "      <td>257.353842</td>\n",
              "      <td>0.486592</td>\n",
              "      <td>0.836071</td>\n",
              "      <td>13.002015</td>\n",
              "      <td>1.102743</td>\n",
              "      <td>0.806057</td>\n",
              "      <td>49.693429</td>\n",
              "    </tr>\n",
              "    <tr>\n",
              "      <th>min</th>\n",
              "      <td>1.000000</td>\n",
              "      <td>0.000000</td>\n",
              "      <td>1.000000</td>\n",
              "      <td>0.420000</td>\n",
              "      <td>0.000000</td>\n",
              "      <td>0.000000</td>\n",
              "      <td>0.000000</td>\n",
              "    </tr>\n",
              "    <tr>\n",
              "      <th>25%</th>\n",
              "      <td>223.500000</td>\n",
              "      <td>0.000000</td>\n",
              "      <td>2.000000</td>\n",
              "      <td>22.000000</td>\n",
              "      <td>0.000000</td>\n",
              "      <td>0.000000</td>\n",
              "      <td>7.910400</td>\n",
              "    </tr>\n",
              "    <tr>\n",
              "      <th>50%</th>\n",
              "      <td>446.000000</td>\n",
              "      <td>0.000000</td>\n",
              "      <td>3.000000</td>\n",
              "      <td>29.699118</td>\n",
              "      <td>0.000000</td>\n",
              "      <td>0.000000</td>\n",
              "      <td>14.454200</td>\n",
              "    </tr>\n",
              "    <tr>\n",
              "      <th>75%</th>\n",
              "      <td>668.500000</td>\n",
              "      <td>1.000000</td>\n",
              "      <td>3.000000</td>\n",
              "      <td>35.000000</td>\n",
              "      <td>1.000000</td>\n",
              "      <td>0.000000</td>\n",
              "      <td>31.000000</td>\n",
              "    </tr>\n",
              "    <tr>\n",
              "      <th>max</th>\n",
              "      <td>891.000000</td>\n",
              "      <td>1.000000</td>\n",
              "      <td>3.000000</td>\n",
              "      <td>80.000000</td>\n",
              "      <td>8.000000</td>\n",
              "      <td>6.000000</td>\n",
              "      <td>512.329200</td>\n",
              "    </tr>\n",
              "  </tbody>\n",
              "</table>\n",
              "</div>"
            ],
            "text/plain": [
              "       PassengerId    Survived      Pclass         Age       SibSp  \\\n",
              "count   891.000000  891.000000  891.000000  891.000000  891.000000   \n",
              "mean    446.000000    0.383838    2.308642   29.699118    0.523008   \n",
              "std     257.353842    0.486592    0.836071   13.002015    1.102743   \n",
              "min       1.000000    0.000000    1.000000    0.420000    0.000000   \n",
              "25%     223.500000    0.000000    2.000000   22.000000    0.000000   \n",
              "50%     446.000000    0.000000    3.000000   29.699118    0.000000   \n",
              "75%     668.500000    1.000000    3.000000   35.000000    1.000000   \n",
              "max     891.000000    1.000000    3.000000   80.000000    8.000000   \n",
              "\n",
              "            Parch        Fare  \n",
              "count  891.000000  891.000000  \n",
              "mean     0.381594   32.204208  \n",
              "std      0.806057   49.693429  \n",
              "min      0.000000    0.000000  \n",
              "25%      0.000000    7.910400  \n",
              "50%      0.000000   14.454200  \n",
              "75%      0.000000   31.000000  \n",
              "max      6.000000  512.329200  "
            ]
          },
          "execution_count": 16,
          "metadata": {},
          "output_type": "execute_result"
        }
      ],
      "source": [
        "titanic_data.describe()"
      ]
    },
    {
      "cell_type": "code",
      "execution_count": 17,
      "metadata": {
        "colab": {
          "base_uri": "https://localhost:8080/"
        },
        "id": "xAvMoXPTcvl_",
        "outputId": "d463cee5-5f69-4140-c57d-c9b84beea28b"
      },
      "outputs": [
        {
          "data": {
            "text/plain": [
              "Survived\n",
              "0    549\n",
              "1    342\n",
              "Name: count, dtype: int64"
            ]
          },
          "execution_count": 17,
          "metadata": {},
          "output_type": "execute_result"
        }
      ],
      "source": [
        "#Número de sobreviventes ou não\n",
        "titanic_data['Survived'].value_counts()"
      ]
    },
    {
      "cell_type": "code",
      "execution_count": 18,
      "metadata": {
        "colab": {
          "base_uri": "https://localhost:8080/"
        },
        "id": "YxdjVkyKcvl_",
        "outputId": "b47cbac9-ea63-4b4a-d277-3e8746a0a350"
      },
      "outputs": [
        {
          "name": "stdout",
          "output_type": "stream",
          "text": [
            "<class 'pandas.core.frame.DataFrame'>\n",
            "RangeIndex: 891 entries, 0 to 890\n",
            "Data columns (total 11 columns):\n",
            " #   Column       Non-Null Count  Dtype  \n",
            "---  ------       --------------  -----  \n",
            " 0   PassengerId  891 non-null    int64  \n",
            " 1   Survived     891 non-null    int64  \n",
            " 2   Pclass       891 non-null    int64  \n",
            " 3   Name         891 non-null    object \n",
            " 4   Sex          891 non-null    object \n",
            " 5   Age          891 non-null    float64\n",
            " 6   SibSp        891 non-null    int64  \n",
            " 7   Parch        891 non-null    int64  \n",
            " 8   Ticket       891 non-null    object \n",
            " 9   Fare         891 non-null    float64\n",
            " 10  Embarked     891 non-null    object \n",
            "dtypes: float64(2), int64(5), object(4)\n",
            "memory usage: 76.7+ KB\n"
          ]
        }
      ],
      "source": [
        "titanic_data.info()"
      ]
    },
    {
      "cell_type": "markdown",
      "metadata": {
        "id": "CVswszpEcvl_"
      },
      "source": [
        "Visualização"
      ]
    },
    {
      "cell_type": "code",
      "execution_count": 19,
      "metadata": {
        "id": "1UFwymuJcvl_"
      },
      "outputs": [],
      "source": [
        "sns.set_theme()"
      ]
    },
    {
      "cell_type": "code",
      "execution_count": 20,
      "metadata": {
        "colab": {
          "base_uri": "https://localhost:8080/",
          "height": 475
        },
        "id": "YS7DYAkacvl_",
        "outputId": "b73563ef-df61-4b86-d147-31c43ce45450"
      },
      "outputs": [
        {
          "data": {
            "text/plain": [
              "<Axes: xlabel='Survived', ylabel='count'>"
            ]
          },
          "execution_count": 20,
          "metadata": {},
          "output_type": "execute_result"
        },
        {
          "data": {
            "image/png": "[encoded data removed]",
            "text/plain": [
              "<Figure size 640x480 with 1 Axes>"
            ]
          },
          "metadata": {},
          "output_type": "display_data"
        }
      ],
      "source": [
        "sns.countplot(x = 'Survived', data=titanic_data)"
      ]
    },
    {
      "cell_type": "code",
      "execution_count": 21,
      "metadata": {
        "colab": {
          "base_uri": "https://localhost:8080/"
        },
        "id": "KKM5GFaccvl_",
        "outputId": "b8f97377-0bff-43b2-87da-35b02fa97de7"
      },
      "outputs": [
        {
          "data": {
            "text/plain": [
              "Sex\n",
              "male      577\n",
              "female    314\n",
              "Name: count, dtype: int64"
            ]
          },
          "execution_count": 21,
          "metadata": {},
          "output_type": "execute_result"
        }
      ],
      "source": [
        "#Número de homens e mulheres\n",
        "titanic_data['Sex'].value_counts()"
      ]
    },
    {
      "cell_type": "code",
      "execution_count": 22,
      "metadata": {
        "colab": {
          "base_uri": "https://localhost:8080/",
          "height": 477
        },
        "id": "4yiLXOndcvl_",
        "outputId": "71a0a9d4-7c22-421a-e4dd-cfbe32962ecd"
      },
      "outputs": [
        {
          "data": {
            "text/plain": [
              "<Axes: xlabel='Sex', ylabel='count'>"
            ]
          },
          "execution_count": 22,
          "metadata": {},
          "output_type": "execute_result"
        },
        {
          "data": {
            "image/png": "[encoded data removed]",
            "text/plain": [
              "<Figure size 640x480 with 1 Axes>"
            ]
          },
          "metadata": {},
          "output_type": "display_data"
        }
      ],
      "source": [
        "sns.countplot(x = 'Sex', data=titanic_data)"
      ]
    },
    {
      "cell_type": "code",
      "execution_count": 24,
      "metadata": {
        "colab": {
          "base_uri": "https://localhost:8080/",
          "height": 475
        },
        "id": "hWqDkJyCcvl_",
        "outputId": "0ee1e20d-513f-4628-b376-4edd97a6e235"
      },
      "outputs": [
        {
          "ename": "AttributeError",
          "evalue": "'numpy.int64' object has no attribute 'startswith'",
          "output_type": "error",
          "traceback": [
            "\u001b[0;31m---------------------------------------------------------------------------\u001b[0m",
            "\u001b[0;31mAttributeError\u001b[0m                            Traceback (most recent call last)",
            "Cell \u001b[0;32mIn[24], line 2\u001b[0m\n\u001b[1;32m      1\u001b[0m \u001b[38;5;66;03m# Numero de sobreviventes por genero\u001b[39;00m\n\u001b[0;32m----> 2\u001b[0m \u001b[43msns\u001b[49m\u001b[38;5;241;43m.\u001b[39;49m\u001b[43mcountplot\u001b[49m\u001b[43m(\u001b[49m\u001b[43mx\u001b[49m\u001b[38;5;241;43m=\u001b[39;49m\u001b[38;5;124;43m'\u001b[39;49m\u001b[38;5;124;43mSex\u001b[39;49m\u001b[38;5;124;43m'\u001b[39;49m\u001b[43m,\u001b[49m\u001b[43m \u001b[49m\u001b[43mhue\u001b[49m\u001b[38;5;241;43m=\u001b[39;49m\u001b[38;5;124;43m'\u001b[39;49m\u001b[38;5;124;43mSurvived\u001b[39;49m\u001b[38;5;124;43m'\u001b[39;49m\u001b[43m,\u001b[49m\u001b[43m \u001b[49m\u001b[43mdata\u001b[49m\u001b[38;5;241;43m=\u001b[39;49m\u001b[43mtitanic_data\u001b[49m\u001b[43m)\u001b[49m\n",
            "File \u001b[0;32m~/.local/lib/python3.10/site-packages/seaborn/categorical.py:2955\u001b[0m, in \u001b[0;36mcountplot\u001b[0;34m(data, x, y, hue, order, hue_order, orient, color, palette, saturation, width, dodge, ax, **kwargs)\u001b[0m\n\u001b[1;32m   2952\u001b[0m \u001b[38;5;28;01mif\u001b[39;00m ax \u001b[38;5;129;01mis\u001b[39;00m \u001b[38;5;28;01mNone\u001b[39;00m:\n\u001b[1;32m   2953\u001b[0m     ax \u001b[38;5;241m=\u001b[39m plt\u001b[38;5;241m.\u001b[39mgca()\n\u001b[0;32m-> 2955\u001b[0m \u001b[43mplotter\u001b[49m\u001b[38;5;241;43m.\u001b[39;49m\u001b[43mplot\u001b[49m\u001b[43m(\u001b[49m\u001b[43max\u001b[49m\u001b[43m,\u001b[49m\u001b[43m \u001b[49m\u001b[43mkwargs\u001b[49m\u001b[43m)\u001b[49m\n\u001b[1;32m   2956\u001b[0m \u001b[38;5;28;01mreturn\u001b[39;00m ax\n",
            "File \u001b[0;32m~/.local/lib/python3.10/site-packages/seaborn/categorical.py:1587\u001b[0m, in \u001b[0;36m_BarPlotter.plot\u001b[0;34m(self, ax, bar_kws)\u001b[0m\n\u001b[1;32m   1585\u001b[0m \u001b[38;5;250m\u001b[39m\u001b[38;5;124;03m\"\"\"Make the plot.\"\"\"\u001b[39;00m\n\u001b[1;32m   1586\u001b[0m \u001b[38;5;28mself\u001b[39m\u001b[38;5;241m.\u001b[39mdraw_bars(ax, bar_kws)\n\u001b[0;32m-> 1587\u001b[0m \u001b[38;5;28;43mself\u001b[39;49m\u001b[38;5;241;43m.\u001b[39;49m\u001b[43mannotate_axes\u001b[49m\u001b[43m(\u001b[49m\u001b[43max\u001b[49m\u001b[43m)\u001b[49m\n\u001b[1;32m   1588\u001b[0m \u001b[38;5;28;01mif\u001b[39;00m \u001b[38;5;28mself\u001b[39m\u001b[38;5;241m.\u001b[39morient \u001b[38;5;241m==\u001b[39m \u001b[38;5;124m\"\u001b[39m\u001b[38;5;124mh\u001b[39m\u001b[38;5;124m\"\u001b[39m:\n\u001b[1;32m   1589\u001b[0m     ax\u001b[38;5;241m.\u001b[39minvert_yaxis()\n",
            "File \u001b[0;32m~/.local/lib/python3.10/site-packages/seaborn/categorical.py:767\u001b[0m, in \u001b[0;36m_CategoricalPlotter.annotate_axes\u001b[0;34m(self, ax)\u001b[0m\n\u001b[1;32m    764\u001b[0m     ax\u001b[38;5;241m.\u001b[39mset_ylim(\u001b[38;5;241m-\u001b[39m\u001b[38;5;241m.5\u001b[39m, \u001b[38;5;28mlen\u001b[39m(\u001b[38;5;28mself\u001b[39m\u001b[38;5;241m.\u001b[39mplot_data) \u001b[38;5;241m-\u001b[39m \u001b[38;5;241m.5\u001b[39m, auto\u001b[38;5;241m=\u001b[39m\u001b[38;5;28;01mNone\u001b[39;00m)\n\u001b[1;32m    766\u001b[0m \u001b[38;5;28;01mif\u001b[39;00m \u001b[38;5;28mself\u001b[39m\u001b[38;5;241m.\u001b[39mhue_names \u001b[38;5;129;01mis\u001b[39;00m \u001b[38;5;129;01mnot\u001b[39;00m \u001b[38;5;28;01mNone\u001b[39;00m:\n\u001b[0;32m--> 767\u001b[0m     \u001b[43max\u001b[49m\u001b[38;5;241;43m.\u001b[39;49m\u001b[43mlegend\u001b[49m\u001b[43m(\u001b[49m\u001b[43mloc\u001b[49m\u001b[38;5;241;43m=\u001b[39;49m\u001b[38;5;124;43m\"\u001b[39;49m\u001b[38;5;124;43mbest\u001b[39;49m\u001b[38;5;124;43m\"\u001b[39;49m\u001b[43m,\u001b[49m\u001b[43m \u001b[49m\u001b[43mtitle\u001b[49m\u001b[38;5;241;43m=\u001b[39;49m\u001b[38;5;28;43mself\u001b[39;49m\u001b[38;5;241;43m.\u001b[39;49m\u001b[43mhue_title\u001b[49m\u001b[43m)\u001b[49m\n",
            "File \u001b[0;32m~/.local/lib/python3.10/site-packages/matplotlib/axes/_axes.py:322\u001b[0m, in \u001b[0;36mAxes.legend\u001b[0;34m(self, *args, **kwargs)\u001b[0m\n\u001b[1;32m    204\u001b[0m \u001b[38;5;129m@_docstring\u001b[39m\u001b[38;5;241m.\u001b[39mdedent_interpd\n\u001b[1;32m    205\u001b[0m \u001b[38;5;28;01mdef\u001b[39;00m \u001b[38;5;21mlegend\u001b[39m(\u001b[38;5;28mself\u001b[39m, \u001b[38;5;241m*\u001b[39margs, \u001b[38;5;241m*\u001b[39m\u001b[38;5;241m*\u001b[39mkwargs):\n\u001b[1;32m    206\u001b[0m \u001b[38;5;250m    \u001b[39m\u001b[38;5;124;03m\"\"\"\u001b[39;00m\n\u001b[1;32m    207\u001b[0m \u001b[38;5;124;03m    Place a legend on the Axes.\u001b[39;00m\n\u001b[1;32m    208\u001b[0m \n\u001b[0;32m   (...)\u001b[0m\n\u001b[1;32m    320\u001b[0m \u001b[38;5;124;03m    .. plot:: gallery/text_labels_and_annotations/legend.py\u001b[39;00m\n\u001b[1;32m    321\u001b[0m \u001b[38;5;124;03m    \"\"\"\u001b[39;00m\n\u001b[0;32m--> 322\u001b[0m     handles, labels, kwargs \u001b[38;5;241m=\u001b[39m \u001b[43mmlegend\u001b[49m\u001b[38;5;241;43m.\u001b[39;49m\u001b[43m_parse_legend_args\u001b[49m\u001b[43m(\u001b[49m\u001b[43m[\u001b[49m\u001b[38;5;28;43mself\u001b[39;49m\u001b[43m]\u001b[49m\u001b[43m,\u001b[49m\u001b[43m \u001b[49m\u001b[38;5;241;43m*\u001b[39;49m\u001b[43margs\u001b[49m\u001b[43m,\u001b[49m\u001b[43m \u001b[49m\u001b[38;5;241;43m*\u001b[39;49m\u001b[38;5;241;43m*\u001b[39;49m\u001b[43mkwargs\u001b[49m\u001b[43m)\u001b[49m\n\u001b[1;32m    323\u001b[0m     \u001b[38;5;28mself\u001b[39m\u001b[38;5;241m.\u001b[39mlegend_ \u001b[38;5;241m=\u001b[39m mlegend\u001b[38;5;241m.\u001b[39mLegend(\u001b[38;5;28mself\u001b[39m, handles, labels, \u001b[38;5;241m*\u001b[39m\u001b[38;5;241m*\u001b[39mkwargs)\n\u001b[1;32m    324\u001b[0m     \u001b[38;5;28mself\u001b[39m\u001b[38;5;241m.\u001b[39mlegend_\u001b[38;5;241m.\u001b[39m_remove_method \u001b[38;5;241m=\u001b[39m \u001b[38;5;28mself\u001b[39m\u001b[38;5;241m.\u001b[39m_remove_legend\n",
            "File \u001b[0;32m~/.local/lib/python3.10/site-packages/matplotlib/legend.py:1361\u001b[0m, in \u001b[0;36m_parse_legend_args\u001b[0;34m(axs, handles, labels, *args, **kwargs)\u001b[0m\n\u001b[1;32m   1357\u001b[0m     handles \u001b[38;5;241m=\u001b[39m [handle \u001b[38;5;28;01mfor\u001b[39;00m handle, label\n\u001b[1;32m   1358\u001b[0m                \u001b[38;5;129;01min\u001b[39;00m \u001b[38;5;28mzip\u001b[39m(_get_legend_handles(axs, handlers), labels)]\n\u001b[1;32m   1360\u001b[0m \u001b[38;5;28;01melif\u001b[39;00m \u001b[38;5;28mlen\u001b[39m(args) \u001b[38;5;241m==\u001b[39m \u001b[38;5;241m0\u001b[39m:  \u001b[38;5;66;03m# 0 args: automatically detect labels and handles.\u001b[39;00m\n\u001b[0;32m-> 1361\u001b[0m     handles, labels \u001b[38;5;241m=\u001b[39m \u001b[43m_get_legend_handles_labels\u001b[49m\u001b[43m(\u001b[49m\u001b[43maxs\u001b[49m\u001b[43m,\u001b[49m\u001b[43m \u001b[49m\u001b[43mhandlers\u001b[49m\u001b[43m)\u001b[49m\n\u001b[1;32m   1362\u001b[0m     \u001b[38;5;28;01mif\u001b[39;00m \u001b[38;5;129;01mnot\u001b[39;00m handles:\n\u001b[1;32m   1363\u001b[0m         log\u001b[38;5;241m.\u001b[39mwarning(\n\u001b[1;32m   1364\u001b[0m             \u001b[38;5;124m\"\u001b[39m\u001b[38;5;124mNo artists with labels found to put in legend.  Note that \u001b[39m\u001b[38;5;124m\"\u001b[39m\n\u001b[1;32m   1365\u001b[0m             \u001b[38;5;124m\"\u001b[39m\u001b[38;5;124martists whose label start with an underscore are ignored \u001b[39m\u001b[38;5;124m\"\u001b[39m\n\u001b[1;32m   1366\u001b[0m             \u001b[38;5;124m\"\u001b[39m\u001b[38;5;124mwhen legend() is called with no argument.\u001b[39m\u001b[38;5;124m\"\u001b[39m)\n",
            "File \u001b[0;32m~/.local/lib/python3.10/site-packages/matplotlib/legend.py:1291\u001b[0m, in \u001b[0;36m_get_legend_handles_labels\u001b[0;34m(axs, legend_handler_map)\u001b[0m\n\u001b[1;32m   1289\u001b[0m \u001b[38;5;28;01mfor\u001b[39;00m handle \u001b[38;5;129;01min\u001b[39;00m _get_legend_handles(axs, legend_handler_map):\n\u001b[1;32m   1290\u001b[0m     label \u001b[38;5;241m=\u001b[39m handle\u001b[38;5;241m.\u001b[39mget_label()\n\u001b[0;32m-> 1291\u001b[0m     \u001b[38;5;28;01mif\u001b[39;00m label \u001b[38;5;129;01mand\u001b[39;00m \u001b[38;5;129;01mnot\u001b[39;00m \u001b[43mlabel\u001b[49m\u001b[38;5;241;43m.\u001b[39;49m\u001b[43mstartswith\u001b[49m(\u001b[38;5;124m'\u001b[39m\u001b[38;5;124m_\u001b[39m\u001b[38;5;124m'\u001b[39m):\n\u001b[1;32m   1292\u001b[0m         handles\u001b[38;5;241m.\u001b[39mappend(handle)\n\u001b[1;32m   1293\u001b[0m         labels\u001b[38;5;241m.\u001b[39mappend(label)\n",
            "\u001b[0;31mAttributeError\u001b[0m: 'numpy.int64' object has no attribute 'startswith'"
          ]
        },
        {
          "data": {
            "image/png": "[encoded data removed]",
            "text/plain": [
              "<Figure size 640x480 with 1 Axes>"
            ]
          },
          "metadata": {},
          "output_type": "display_data"
        }
      ],
      "source": [
        "# Numero de sobreviventes por genero\n",
        "sns.countplot(x='Sex', hue='Survived', data=titanic_data)"
      ]
    },
    {
      "cell_type": "code",
      "execution_count": 25,
      "metadata": {
        "colab": {
          "base_uri": "https://localhost:8080/",
          "height": 475
        },
        "id": "K5kcFhhQcvmA",
        "outputId": "3d41623e-83ec-4fe3-d6ca-c4bb7faecad4"
      },
      "outputs": [
        {
          "data": {
            "text/plain": [
              "<Axes: xlabel='Pclass', ylabel='count'>"
            ]
          },
          "execution_count": 25,
          "metadata": {},
          "output_type": "execute_result"
        },
        {
          "data": {
            "image/png": "[encoded data removed]",
            "text/plain": [
              "<Figure size 640x480 with 1 Axes>"
            ]
          },
          "metadata": {},
          "output_type": "display_data"
        }
      ],
      "source": [
        "#coluna Pclass\n",
        "sns.countplot(x='Pclass', data=titanic_data)"
      ]
    },
    {
      "cell_type": "code",
      "execution_count": 26,
      "metadata": {
        "colab": {
          "base_uri": "https://localhost:8080/",
          "height": 475
        },
        "id": "2DHbIw9JcvmA",
        "outputId": "2c9d53d1-4e3c-4b4f-89ba-c985a1fdb2ed"
      },
      "outputs": [
        {
          "ename": "AttributeError",
          "evalue": "'numpy.int64' object has no attribute 'startswith'",
          "output_type": "error",
          "traceback": [
            "\u001b[0;31m---------------------------------------------------------------------------\u001b[0m",
            "\u001b[0;31mAttributeError\u001b[0m                            Traceback (most recent call last)",
            "Cell \u001b[0;32mIn[26], line 2\u001b[0m\n\u001b[1;32m      1\u001b[0m \u001b[38;5;66;03m# Numero de sobreviventes por classe\u001b[39;00m\n\u001b[0;32m----> 2\u001b[0m \u001b[43msns\u001b[49m\u001b[38;5;241;43m.\u001b[39;49m\u001b[43mcountplot\u001b[49m\u001b[43m(\u001b[49m\u001b[43mx\u001b[49m\u001b[38;5;241;43m=\u001b[39;49m\u001b[38;5;124;43m'\u001b[39;49m\u001b[38;5;124;43mPclass\u001b[39;49m\u001b[38;5;124;43m'\u001b[39;49m\u001b[43m,\u001b[49m\u001b[43m \u001b[49m\u001b[43mhue\u001b[49m\u001b[38;5;241;43m=\u001b[39;49m\u001b[38;5;124;43m'\u001b[39;49m\u001b[38;5;124;43mSurvived\u001b[39;49m\u001b[38;5;124;43m'\u001b[39;49m\u001b[43m,\u001b[49m\u001b[43m \u001b[49m\u001b[43mdata\u001b[49m\u001b[38;5;241;43m=\u001b[39;49m\u001b[43mtitanic_data\u001b[49m\u001b[43m)\u001b[49m\n",
            "File \u001b[0;32m~/.local/lib/python3.10/site-packages/seaborn/categorical.py:2955\u001b[0m, in \u001b[0;36mcountplot\u001b[0;34m(data, x, y, hue, order, hue_order, orient, color, palette, saturation, width, dodge, ax, **kwargs)\u001b[0m\n\u001b[1;32m   2952\u001b[0m \u001b[38;5;28;01mif\u001b[39;00m ax \u001b[38;5;129;01mis\u001b[39;00m \u001b[38;5;28;01mNone\u001b[39;00m:\n\u001b[1;32m   2953\u001b[0m     ax \u001b[38;5;241m=\u001b[39m plt\u001b[38;5;241m.\u001b[39mgca()\n\u001b[0;32m-> 2955\u001b[0m \u001b[43mplotter\u001b[49m\u001b[38;5;241;43m.\u001b[39;49m\u001b[43mplot\u001b[49m\u001b[43m(\u001b[49m\u001b[43max\u001b[49m\u001b[43m,\u001b[49m\u001b[43m \u001b[49m\u001b[43mkwargs\u001b[49m\u001b[43m)\u001b[49m\n\u001b[1;32m   2956\u001b[0m \u001b[38;5;28;01mreturn\u001b[39;00m ax\n",
            "File \u001b[0;32m~/.local/lib/python3.10/site-packages/seaborn/categorical.py:1587\u001b[0m, in \u001b[0;36m_BarPlotter.plot\u001b[0;34m(self, ax, bar_kws)\u001b[0m\n\u001b[1;32m   1585\u001b[0m \u001b[38;5;250m\u001b[39m\u001b[38;5;124;03m\"\"\"Make the plot.\"\"\"\u001b[39;00m\n\u001b[1;32m   1586\u001b[0m \u001b[38;5;28mself\u001b[39m\u001b[38;5;241m.\u001b[39mdraw_bars(ax, bar_kws)\n\u001b[0;32m-> 1587\u001b[0m \u001b[38;5;28;43mself\u001b[39;49m\u001b[38;5;241;43m.\u001b[39;49m\u001b[43mannotate_axes\u001b[49m\u001b[43m(\u001b[49m\u001b[43max\u001b[49m\u001b[43m)\u001b[49m\n\u001b[1;32m   1588\u001b[0m \u001b[38;5;28;01mif\u001b[39;00m \u001b[38;5;28mself\u001b[39m\u001b[38;5;241m.\u001b[39morient \u001b[38;5;241m==\u001b[39m \u001b[38;5;124m\"\u001b[39m\u001b[38;5;124mh\u001b[39m\u001b[38;5;124m\"\u001b[39m:\n\u001b[1;32m   1589\u001b[0m     ax\u001b[38;5;241m.\u001b[39minvert_yaxis()\n",
            "File \u001b[0;32m~/.local/lib/python3.10/site-packages/seaborn/categorical.py:767\u001b[0m, in \u001b[0;36m_CategoricalPlotter.annotate_axes\u001b[0;34m(self, ax)\u001b[0m\n\u001b[1;32m    764\u001b[0m     ax\u001b[38;5;241m.\u001b[39mset_ylim(\u001b[38;5;241m-\u001b[39m\u001b[38;5;241m.5\u001b[39m, \u001b[38;5;28mlen\u001b[39m(\u001b[38;5;28mself\u001b[39m\u001b[38;5;241m.\u001b[39mplot_data) \u001b[38;5;241m-\u001b[39m \u001b[38;5;241m.5\u001b[39m, auto\u001b[38;5;241m=\u001b[39m\u001b[38;5;28;01mNone\u001b[39;00m)\n\u001b[1;32m    766\u001b[0m \u001b[38;5;28;01mif\u001b[39;00m \u001b[38;5;28mself\u001b[39m\u001b[38;5;241m.\u001b[39mhue_names \u001b[38;5;129;01mis\u001b[39;00m \u001b[38;5;129;01mnot\u001b[39;00m \u001b[38;5;28;01mNone\u001b[39;00m:\n\u001b[0;32m--> 767\u001b[0m     \u001b[43max\u001b[49m\u001b[38;5;241;43m.\u001b[39;49m\u001b[43mlegend\u001b[49m\u001b[43m(\u001b[49m\u001b[43mloc\u001b[49m\u001b[38;5;241;43m=\u001b[39;49m\u001b[38;5;124;43m\"\u001b[39;49m\u001b[38;5;124;43mbest\u001b[39;49m\u001b[38;5;124;43m\"\u001b[39;49m\u001b[43m,\u001b[49m\u001b[43m \u001b[49m\u001b[43mtitle\u001b[49m\u001b[38;5;241;43m=\u001b[39;49m\u001b[38;5;28;43mself\u001b[39;49m\u001b[38;5;241;43m.\u001b[39;49m\u001b[43mhue_title\u001b[49m\u001b[43m)\u001b[49m\n",
            "File \u001b[0;32m~/.local/lib/python3.10/site-packages/matplotlib/axes/_axes.py:322\u001b[0m, in \u001b[0;36mAxes.legend\u001b[0;34m(self, *args, **kwargs)\u001b[0m\n\u001b[1;32m    204\u001b[0m \u001b[38;5;129m@_docstring\u001b[39m\u001b[38;5;241m.\u001b[39mdedent_interpd\n\u001b[1;32m    205\u001b[0m \u001b[38;5;28;01mdef\u001b[39;00m \u001b[38;5;21mlegend\u001b[39m(\u001b[38;5;28mself\u001b[39m, \u001b[38;5;241m*\u001b[39margs, \u001b[38;5;241m*\u001b[39m\u001b[38;5;241m*\u001b[39mkwargs):\n\u001b[1;32m    206\u001b[0m \u001b[38;5;250m    \u001b[39m\u001b[38;5;124;03m\"\"\"\u001b[39;00m\n\u001b[1;32m    207\u001b[0m \u001b[38;5;124;03m    Place a legend on the Axes.\u001b[39;00m\n\u001b[1;32m    208\u001b[0m \n\u001b[0;32m   (...)\u001b[0m\n\u001b[1;32m    320\u001b[0m \u001b[38;5;124;03m    .. plot:: gallery/text_labels_and_annotations/legend.py\u001b[39;00m\n\u001b[1;32m    321\u001b[0m \u001b[38;5;124;03m    \"\"\"\u001b[39;00m\n\u001b[0;32m--> 322\u001b[0m     handles, labels, kwargs \u001b[38;5;241m=\u001b[39m \u001b[43mmlegend\u001b[49m\u001b[38;5;241;43m.\u001b[39;49m\u001b[43m_parse_legend_args\u001b[49m\u001b[43m(\u001b[49m\u001b[43m[\u001b[49m\u001b[38;5;28;43mself\u001b[39;49m\u001b[43m]\u001b[49m\u001b[43m,\u001b[49m\u001b[43m \u001b[49m\u001b[38;5;241;43m*\u001b[39;49m\u001b[43margs\u001b[49m\u001b[43m,\u001b[49m\u001b[43m \u001b[49m\u001b[38;5;241;43m*\u001b[39;49m\u001b[38;5;241;43m*\u001b[39;49m\u001b[43mkwargs\u001b[49m\u001b[43m)\u001b[49m\n\u001b[1;32m    323\u001b[0m     \u001b[38;5;28mself\u001b[39m\u001b[38;5;241m.\u001b[39mlegend_ \u001b[38;5;241m=\u001b[39m mlegend\u001b[38;5;241m.\u001b[39mLegend(\u001b[38;5;28mself\u001b[39m, handles, labels, \u001b[38;5;241m*\u001b[39m\u001b[38;5;241m*\u001b[39mkwargs)\n\u001b[1;32m    324\u001b[0m     \u001b[38;5;28mself\u001b[39m\u001b[38;5;241m.\u001b[39mlegend_\u001b[38;5;241m.\u001b[39m_remove_method \u001b[38;5;241m=\u001b[39m \u001b[38;5;28mself\u001b[39m\u001b[38;5;241m.\u001b[39m_remove_legend\n",
            "File \u001b[0;32m~/.local/lib/python3.10/site-packages/matplotlib/legend.py:1361\u001b[0m, in \u001b[0;36m_parse_legend_args\u001b[0;34m(axs, handles, labels, *args, **kwargs)\u001b[0m\n\u001b[1;32m   1357\u001b[0m     handles \u001b[38;5;241m=\u001b[39m [handle \u001b[38;5;28;01mfor\u001b[39;00m handle, label\n\u001b[1;32m   1358\u001b[0m                \u001b[38;5;129;01min\u001b[39;00m \u001b[38;5;28mzip\u001b[39m(_get_legend_handles(axs, handlers), labels)]\n\u001b[1;32m   1360\u001b[0m \u001b[38;5;28;01melif\u001b[39;00m \u001b[38;5;28mlen\u001b[39m(args) \u001b[38;5;241m==\u001b[39m \u001b[38;5;241m0\u001b[39m:  \u001b[38;5;66;03m# 0 args: automatically detect labels and handles.\u001b[39;00m\n\u001b[0;32m-> 1361\u001b[0m     handles, labels \u001b[38;5;241m=\u001b[39m \u001b[43m_get_legend_handles_labels\u001b[49m\u001b[43m(\u001b[49m\u001b[43maxs\u001b[49m\u001b[43m,\u001b[49m\u001b[43m \u001b[49m\u001b[43mhandlers\u001b[49m\u001b[43m)\u001b[49m\n\u001b[1;32m   1362\u001b[0m     \u001b[38;5;28;01mif\u001b[39;00m \u001b[38;5;129;01mnot\u001b[39;00m handles:\n\u001b[1;32m   1363\u001b[0m         log\u001b[38;5;241m.\u001b[39mwarning(\n\u001b[1;32m   1364\u001b[0m             \u001b[38;5;124m\"\u001b[39m\u001b[38;5;124mNo artists with labels found to put in legend.  Note that \u001b[39m\u001b[38;5;124m\"\u001b[39m\n\u001b[1;32m   1365\u001b[0m             \u001b[38;5;124m\"\u001b[39m\u001b[38;5;124martists whose label start with an underscore are ignored \u001b[39m\u001b[38;5;124m\"\u001b[39m\n\u001b[1;32m   1366\u001b[0m             \u001b[38;5;124m\"\u001b[39m\u001b[38;5;124mwhen legend() is called with no argument.\u001b[39m\u001b[38;5;124m\"\u001b[39m)\n",
            "File \u001b[0;32m~/.local/lib/python3.10/site-packages/matplotlib/legend.py:1291\u001b[0m, in \u001b[0;36m_get_legend_handles_labels\u001b[0;34m(axs, legend_handler_map)\u001b[0m\n\u001b[1;32m   1289\u001b[0m \u001b[38;5;28;01mfor\u001b[39;00m handle \u001b[38;5;129;01min\u001b[39;00m _get_legend_handles(axs, legend_handler_map):\n\u001b[1;32m   1290\u001b[0m     label \u001b[38;5;241m=\u001b[39m handle\u001b[38;5;241m.\u001b[39mget_label()\n\u001b[0;32m-> 1291\u001b[0m     \u001b[38;5;28;01mif\u001b[39;00m label \u001b[38;5;129;01mand\u001b[39;00m \u001b[38;5;129;01mnot\u001b[39;00m \u001b[43mlabel\u001b[49m\u001b[38;5;241;43m.\u001b[39;49m\u001b[43mstartswith\u001b[49m(\u001b[38;5;124m'\u001b[39m\u001b[38;5;124m_\u001b[39m\u001b[38;5;124m'\u001b[39m):\n\u001b[1;32m   1292\u001b[0m         handles\u001b[38;5;241m.\u001b[39mappend(handle)\n\u001b[1;32m   1293\u001b[0m         labels\u001b[38;5;241m.\u001b[39mappend(label)\n",
            "\u001b[0;31mAttributeError\u001b[0m: 'numpy.int64' object has no attribute 'startswith'"
          ]
        },
        {
          "data": {
            "image/png": "[encoded data removed]",
            "text/plain": [
              "<Figure size 640x480 with 1 Axes>"
            ]
          },
          "metadata": {},
          "output_type": "display_data"
        }
      ],
      "source": [
        "# Numero de sobreviventes por classe\n",
        "sns.countplot(x='Pclass', hue='Survived', data=titanic_data)"
      ]
    },
    {
      "cell_type": "code",
      "execution_count": 27,
      "metadata": {
        "id": "4RMHOCblcvmA"
      },
      "outputs": [],
      "source": [
        "#Selecionamos apenas os atributos numericos\n",
        "numeric_data = titanic_data.select_dtypes(include=[np.number])"
      ]
    },
    {
      "cell_type": "markdown",
      "metadata": {
        "id": "FgVBqTAMcvmA"
      },
      "source": [
        "### Convertendo colunas com atributos categóricos"
      ]
    },
    {
      "cell_type": "code",
      "execution_count": 28,
      "metadata": {
        "id": "cch_IpP7cvmA"
      },
      "outputs": [],
      "source": [
        "titanic_data.replace({'Sex':{'male': 0, 'female': 1}, 'Embarked':{'S': 0, 'C': 1, 'Q': 2}}, inplace=True)"
      ]
    },
    {
      "cell_type": "code",
      "execution_count": 29,
      "metadata": {
        "colab": {
          "base_uri": "https://localhost:8080/",
          "height": 206
        },
        "id": "ZmpPEXMqcvmA",
        "outputId": "0076ba10-fa73-4902-e591-e19decdd2f89"
      },
      "outputs": [
        {
          "data": {
            "text/html": [
              "<div>\n",
              "<style scoped>\n",
              "    .dataframe tbody tr th:only-of-type {\n",
              "        vertical-align: middle;\n",
              "    }\n",
              "\n",
              "    .dataframe tbody tr th {\n",
              "        vertical-align: top;\n",
              "    }\n",
              "\n",
              "    .dataframe thead th {\n",
              "        text-align: right;\n",
              "    }\n",
              "</style>\n",
              "<table border=\"1\" class=\"dataframe\">\n",
              "  <thead>\n",
              "    <tr style=\"text-align: right;\">\n",
              "      <th></th>\n",
              "      <th>PassengerId</th>\n",
              "      <th>Survived</th>\n",
              "      <th>Pclass</th>\n",
              "      <th>Name</th>\n",
              "      <th>Sex</th>\n",
              "      <th>Age</th>\n",
              "      <th>SibSp</th>\n",
              "      <th>Parch</th>\n",
              "      <th>Ticket</th>\n",
              "      <th>Fare</th>\n",
              "      <th>Embarked</th>\n",
              "    </tr>\n",
              "  </thead>\n",
              "  <tbody>\n",
              "    <tr>\n",
              "      <th>0</th>\n",
              "      <td>1</td>\n",
              "      <td>0</td>\n",
              "      <td>3</td>\n",
              "      <td>Braund, Mr. Owen Harris</td>\n",
              "      <td>0</td>\n",
              "      <td>22.0</td>\n",
              "      <td>1</td>\n",
              "      <td>0</td>\n",
              "      <td>A/5 21171</td>\n",
              "      <td>7.2500</td>\n",
              "      <td>0</td>\n",
              "    </tr>\n",
              "    <tr>\n",
              "      <th>1</th>\n",
              "      <td>2</td>\n",
              "      <td>1</td>\n",
              "      <td>1</td>\n",
              "      <td>Cumings, Mrs. John Bradley (Florence Briggs Th...</td>\n",
              "      <td>1</td>\n",
              "      <td>38.0</td>\n",
              "      <td>1</td>\n",
              "      <td>0</td>\n",
              "      <td>PC 17599</td>\n",
              "      <td>71.2833</td>\n",
              "      <td>1</td>\n",
              "    </tr>\n",
              "    <tr>\n",
              "      <th>2</th>\n",
              "      <td>3</td>\n",
              "      <td>1</td>\n",
              "      <td>3</td>\n",
              "      <td>Heikkinen, Miss. Laina</td>\n",
              "      <td>1</td>\n",
              "      <td>26.0</td>\n",
              "      <td>0</td>\n",
              "      <td>0</td>\n",
              "      <td>STON/O2. 3101282</td>\n",
              "      <td>7.9250</td>\n",
              "      <td>0</td>\n",
              "    </tr>\n",
              "    <tr>\n",
              "      <th>3</th>\n",
              "      <td>4</td>\n",
              "      <td>1</td>\n",
              "      <td>1</td>\n",
              "      <td>Futrelle, Mrs. Jacques Heath (Lily May Peel)</td>\n",
              "      <td>1</td>\n",
              "      <td>35.0</td>\n",
              "      <td>1</td>\n",
              "      <td>0</td>\n",
              "      <td>113803</td>\n",
              "      <td>53.1000</td>\n",
              "      <td>0</td>\n",
              "    </tr>\n",
              "    <tr>\n",
              "      <th>4</th>\n",
              "      <td>5</td>\n",
              "      <td>0</td>\n",
              "      <td>3</td>\n",
              "      <td>Allen, Mr. William Henry</td>\n",
              "      <td>0</td>\n",
              "      <td>35.0</td>\n",
              "      <td>0</td>\n",
              "      <td>0</td>\n",
              "      <td>373450</td>\n",
              "      <td>8.0500</td>\n",
              "      <td>0</td>\n",
              "    </tr>\n",
              "  </tbody>\n",
              "</table>\n",
              "</div>"
            ],
            "text/plain": [
              "   PassengerId  Survived  Pclass  \\\n",
              "0            1         0       3   \n",
              "1            2         1       1   \n",
              "2            3         1       3   \n",
              "3            4         1       1   \n",
              "4            5         0       3   \n",
              "\n",
              "                                                Name  Sex   Age  SibSp  Parch  \\\n",
              "0                            Braund, Mr. Owen Harris    0  22.0      1      0   \n",
              "1  Cumings, Mrs. John Bradley (Florence Briggs Th...    1  38.0      1      0   \n",
              "2                             Heikkinen, Miss. Laina    1  26.0      0      0   \n",
              "3       Futrelle, Mrs. Jacques Heath (Lily May Peel)    1  35.0      1      0   \n",
              "4                           Allen, Mr. William Henry    0  35.0      0      0   \n",
              "\n",
              "             Ticket     Fare  Embarked  \n",
              "0         A/5 21171   7.2500         0  \n",
              "1          PC 17599  71.2833         1  \n",
              "2  STON/O2. 3101282   7.9250         0  \n",
              "3            113803  53.1000         0  \n",
              "4            373450   8.0500         0  "
            ]
          },
          "execution_count": 29,
          "metadata": {},
          "output_type": "execute_result"
        }
      ],
      "source": [
        "titanic_data.head()"
      ]
    },
    {
      "cell_type": "code",
      "execution_count": 30,
      "metadata": {
        "id": "dlvoMoBDcvmA"
      },
      "outputs": [],
      "source": [
        "# Normalização dos dados numéricos\n",
        "scaler = MinMaxScaler()\n",
        "numeric_columns = titanic_data.select_dtypes(include=[np.number]).columns\n",
        "titanic_data[numeric_columns] = scaler.fit_transform(titanic_data[numeric_columns])"
      ]
    },
    {
      "cell_type": "markdown",
      "metadata": {
        "id": "hoybKdJ3pSBK"
      },
      "source": [
        "Codificamos variáveis categóricas em variáveis dummy (one-hot encoding) para uso em modelos de machine learning."
      ]
    },
    {
      "cell_type": "code",
      "execution_count": 31,
      "metadata": {
        "id": "u6lwRkVgcvmA"
      },
      "outputs": [],
      "source": [
        "# Codificação de variáveis categóricas\n",
        "titanic_data = pd.get_dummies(titanic_data, drop_first=True)\n"
      ]
    },
    {
      "cell_type": "code",
      "execution_count": 32,
      "metadata": {
        "id": "XFieHaAocvmB"
      },
      "outputs": [],
      "source": [
        "# Separando os dados em treino e teste\n",
        "X = titanic_data.drop('Survived', axis=1)\n",
        "Y = titanic_data['Survived']\n",
        "\n",
        "X_train, X_test, Y_train, Y_test = train_test_split(X, Y, test_size=0.2, random_state=42)\n"
      ]
    },
    {
      "cell_type": "code",
      "execution_count": 33,
      "metadata": {
        "colab": {
          "base_uri": "https://localhost:8080/"
        },
        "id": "2hWxmXf3cvmC",
        "outputId": "49754564-3358-4280-edc7-e2aac3f348ca"
      },
      "outputs": [
        {
          "name": "stdout",
          "output_type": "stream",
          "text": [
            "(891, 1578) (712, 1578) (179, 1578)\n"
          ]
        }
      ],
      "source": [
        "print(X.shape, X_train.shape, X_test.shape)"
      ]
    },
    {
      "cell_type": "markdown",
      "metadata": {
        "id": "eHEt9jXdcvmC"
      },
      "source": [
        "## Treinamento do modelo"
      ]
    },
    {
      "cell_type": "markdown",
      "metadata": {},
      "source": [
        "A ideia principal da equipe foi gerar vários cenários empiricos com parâmetros diferentes para a mesma rede neural, no caso desse projeto foi abordado MLP.\n",
        "\n",
        "No conjunto de redes, cada elemento pertencente assume uma peculiaridade específica. Neste trabalho foi análisado níveis de camada intermédiaria da rede, função de ativação, taxa de aprendizagem e solvers [1].\n",
        "\n",
        "O grupo optou por seguir estritamente a documentação da função MLP da biblioteca sugerida para o projeto. Assim foi implementado redes com as seguintes funções de ativação, taxa de aprendizagem e solver:\n",
        "\n",
        "| Função de Ativação | Taxa de aprendizagem | Solver |\n",
        "|--------------------|----------------------|--------|\n",
        "| relu               | constant             | lbfgs  |\n",
        "| tanh               | invscaling           | sgd    |\n",
        "| identity           | adaptive             | adam   |\n",
        "| logistic           |                      |        |\n",
        "\n",
        "Para isso dividimos nas seguintes etapas:\n",
        "\n",
        "- Geração do conjunto de parâmetros;\n",
        "- Geração de um \"log\" de resultados;\n",
        "- Avaliação do conjunto de parâmetros."
      ]
    },
    {
      "cell_type": "code",
      "execution_count": 34,
      "metadata": {
        "id": "GIkJpEPYcvmC"
      },
      "outputs": [],
      "source": [
        "# Função para treinar e avaliar o modelo\n",
        "def train_and_evaluate(clf, X_train, Y_train, X_test, Y_test):\n",
        "    clf.fit(X_train, Y_train)\n",
        "    Y_pred = clf.predict(X_test)\n",
        "    accuracy = accuracy_score(Y_test, Y_pred)\n",
        "    precision = precision_score(Y_test, Y_pred)\n",
        "    recall = recall_score(Y_test, Y_pred)\n",
        "    return accuracy, precision, recall"
      ]
    },
    {
      "cell_type": "markdown",
      "metadata": {},
      "source": [
        "* Acima descrevemos uma função de avaliação do desempenho da rede neural.\n",
        "* As próximas linhas contém a implementação e os resultados do desempenho de cada rede."
      ]
    },
    {
      "cell_type": "code",
      "execution_count": 44,
      "metadata": {
        "id": "kNkc-xBKcvmC"
      },
      "outputs": [],
      "source": [
        "# Dicionário para armazenar os resultados\n",
        "results = {}\n",
        "\n",
        "# Treinamento e avaliação para cada combinação de função de ativação e taxa de aprendizagem\n",
        "classifiers = {\n",
        "    'relu_constant_lbfgs': MLPClassifier(hidden_layer_sizes=(100,), activation='relu', learning_rate='constant', solver='lbfgs', max_iter=1000),\n",
        "    'relu_constant_sgd': MLPClassifier(hidden_layer_sizes=(100,), activation='relu', learning_rate='constant', solver='sgd', max_iter=1000),\n",
        "    'relu_constant_adam': MLPClassifier(hidden_layer_sizes=(100,), activation='relu', learning_rate='constant', solver='adam', max_iter=1000),\n",
        "    'relu_invscaling_lbfgs': MLPClassifier(hidden_layer_sizes=(100,), activation='relu', learning_rate='invscaling', solver='lbfgs', max_iter=1000),\n",
        "    'relu_invscaling_sgd': MLPClassifier(hidden_layer_sizes=(100,), activation='relu', learning_rate='invscaling', solver='sgd', max_iter=1000),\n",
        "    'relu_invscaling_adam': MLPClassifier(hidden_layer_sizes=(100,), activation='relu', learning_rate='invscaling', solver='adam', max_iter=1000),\n",
        "    'relu_adaptive_lbfgs': MLPClassifier(hidden_layer_sizes=(100,), activation='relu', learning_rate='adaptive', solver='lbfgs', max_iter=1000),\n",
        "    'relu_adaptive_sgd': MLPClassifier(hidden_layer_sizes=(100,), activation='relu', learning_rate='adaptive', solver='sgd', max_iter=1000),\n",
        "    'relu_adaptive_adam': MLPClassifier(hidden_layer_sizes=(100,), activation='relu', learning_rate='adaptive', solver='adam', max_iter=1000),\n",
        "    'tanh_constant_lbfgs': MLPClassifier(hidden_layer_sizes=(100,), activation='tanh', learning_rate='constant', solver='lbfgs', max_iter=1000),\n",
        "    'tanh_constant_sgd': MLPClassifier(hidden_layer_sizes=(100,), activation='tanh', learning_rate='constant', solver='sgd', max_iter=1000),\n",
        "    'tanh_constant_adam': MLPClassifier(hidden_layer_sizes=(100,), activation='tanh', learning_rate='constant', solver='adam', max_iter=1000),\n",
        "    'tanh_invscaling_lbfgs': MLPClassifier(hidden_layer_sizes=(100,), activation='tanh', learning_rate='invscaling', solver='lbfgs', max_iter=1000),\n",
        "    'tanh_invscaling_sgd': MLPClassifier(hidden_layer_sizes=(100,), activation='tanh', learning_rate='invscaling', solver='sgd', max_iter=1000),\n",
        "    'tanh_invscaling_adam': MLPClassifier(hidden_layer_sizes=(100,), activation='tanh', learning_rate='invscaling', solver='adam', max_iter=1000),\n",
        "    'tanh_adaptive_lbfgs': MLPClassifier(hidden_layer_sizes=(100,), activation='tanh', learning_rate='adaptive', solver='lbfgs', max_iter=1000),\n",
        "    'tanh_adaptive_sgd': MLPClassifier(hidden_layer_sizes=(100,), activation='tanh', learning_rate='adaptive', solver='sgd', max_iter=1000),\n",
        "    'tanh_adaptive_adam': MLPClassifier(hidden_layer_sizes=(100,), activation='tanh', learning_rate='adaptive', solver='adam', max_iter=1000),\n",
        "    'identity_constant_lbfgs': MLPClassifier(hidden_layer_sizes=(100,), activation='identity', learning_rate='constant', solver='lbfgs', max_iter=1000),\n",
        "    'identity_constant_sgd': MLPClassifier(hidden_layer_sizes=(100,), activation='identity', learning_rate='constant', solver='sgd', max_iter=1000),\n",
        "    'identity_constant_adam': MLPClassifier(hidden_layer_sizes=(100,), activation='identity', learning_rate='constant', solver='adam', max_iter=1000),\n",
        "    'identity_invscaling_lbfgs': MLPClassifier(hidden_layer_sizes=(100,), activation='identity', learning_rate='invscaling', solver='lbfgs', max_iter=1000),\n",
        "    'identity_invscaling_sgd': MLPClassifier(hidden_layer_sizes=(100,), activation='identity', learning_rate='invscaling', solver='sgd', max_iter=1000),\n",
        "    'identity_invscaling_adam': MLPClassifier(hidden_layer_sizes=(100,), activation='identity', learning_rate='invscaling', solver='adam', max_iter=1000),\n",
        "    'identity_adaptive_lbfgs': MLPClassifier(hidden_layer_sizes=(100,), activation='identity', learning_rate='adaptive', solver='lbfgs', max_iter=1000),\n",
        "    'identity_adaptive_sgd': MLPClassifier(hidden_layer_sizes=(100,), activation='identity', learning_rate='adaptive', solver='sgd', max_iter=1000),\n",
        "    'identity_adaptive_adam': MLPClassifier(hidden_layer_sizes=(100,), activation='identity', learning_rate='adaptive', solver='adam', max_iter=1000),\n",
        "    'logistic_constant_lbfgs': MLPClassifier(hidden_layer_sizes=(100,), activation='logistic', learning_rate='constant', solver='lbfgs', max_iter=1000),\n",
        "    'logistic_constant_sgd': MLPClassifier(hidden_layer_sizes=(100,), activation='logistic', learning_rate='constant', solver='sgd', max_iter=1000),\n",
        "    'logistic_constant_adam': MLPClassifier(hidden_layer_sizes=(100,), activation='logistic', learning_rate='constant', solver='adam', max_iter=1000),\n",
        "    'logistic_invscaling_lbfgs': MLPClassifier(hidden_layer_sizes=(100,), activation='logistic', learning_rate='invscaling', solver='lbfgs', max_iter=1000),\n",
        "    'logistic_invscaling_sgd': MLPClassifier(hidden_layer_sizes=(100,), activation='logistic', learning_rate='invscaling', solver='sgd', max_iter=1000),\n",
        "    'logistic_invscaling_adam': MLPClassifier(hidden_layer_sizes=(100,), activation='logistic', learning_rate='invscaling', solver='adam', max_iter=1000),\n",
        "    'logistic_adaptive_lbfgs': MLPClassifier(hidden_layer_sizes=(100,), activation='logistic', learning_rate='adaptive', solver='lbfgs', max_iter=1000),\n",
        "    'logistic_adaptive_sgd': MLPClassifier(hidden_layer_sizes=(100,), activation='logistic', learning_rate='adaptive', solver='sgd', max_iter=1000),\n",
        "    'logistic_adaptive_adam': MLPClassifier(hidden_layer_sizes=(100,), activation='logistic', learning_rate='adaptive', solver='adam', max_iter=1000)\n",
        "}"
      ]
    },
    {
      "cell_type": "code",
      "execution_count": 45,
      "metadata": {
        "id": "6cjK6xAjcvmH"
      },
      "outputs": [
        {
          "name": "stderr",
          "output_type": "stream",
          "text": [
            "/home/lypess/.local/lib/python3.10/site-packages/sklearn/neural_network/_multilayer_perceptron.py:691: ConvergenceWarning: Stochastic Optimizer: Maximum iterations (1000) reached and the optimization hasn't converged yet.\n",
            "  warnings.warn(\n",
            "/home/lypess/.local/lib/python3.10/site-packages/sklearn/neural_network/_multilayer_perceptron.py:691: ConvergenceWarning: Stochastic Optimizer: Maximum iterations (1000) reached and the optimization hasn't converged yet.\n",
            "  warnings.warn(\n",
            "/home/lypess/.local/lib/python3.10/site-packages/sklearn/neural_network/_multilayer_perceptron.py:691: ConvergenceWarning: Stochastic Optimizer: Maximum iterations (1000) reached and the optimization hasn't converged yet.\n",
            "  warnings.warn(\n",
            "/home/lypess/.local/lib/python3.10/site-packages/sklearn/neural_network/_multilayer_perceptron.py:691: ConvergenceWarning: Stochastic Optimizer: Maximum iterations (1000) reached and the optimization hasn't converged yet.\n",
            "  warnings.warn(\n",
            "/home/lypess/.local/lib/python3.10/site-packages/sklearn/neural_network/_multilayer_perceptron.py:691: ConvergenceWarning: Stochastic Optimizer: Maximum iterations (1000) reached and the optimization hasn't converged yet.\n",
            "  warnings.warn(\n",
            "/home/lypess/.local/lib/python3.10/site-packages/sklearn/neural_network/_multilayer_perceptron.py:691: ConvergenceWarning: Stochastic Optimizer: Maximum iterations (1000) reached and the optimization hasn't converged yet.\n",
            "  warnings.warn(\n",
            "/home/lypess/.local/lib/python3.10/site-packages/sklearn/metrics/_classification.py:1509: UndefinedMetricWarning: Precision is ill-defined and being set to 0.0 due to no predicted samples. Use `zero_division` parameter to control this behavior.\n",
            "  _warn_prf(average, modifier, f\"{metric.capitalize()} is\", len(result))\n",
            "/home/lypess/.local/lib/python3.10/site-packages/sklearn/metrics/_classification.py:1509: UndefinedMetricWarning: Precision is ill-defined and being set to 0.0 due to no predicted samples. Use `zero_division` parameter to control this behavior.\n",
            "  _warn_prf(average, modifier, f\"{metric.capitalize()} is\", len(result))\n",
            "/home/lypess/.local/lib/python3.10/site-packages/sklearn/metrics/_classification.py:1509: UndefinedMetricWarning: Precision is ill-defined and being set to 0.0 due to no predicted samples. Use `zero_division` parameter to control this behavior.\n",
            "  _warn_prf(average, modifier, f\"{metric.capitalize()} is\", len(result))\n"
          ]
        }
      ],
      "source": [
        "# Calculando e armazenando as métricas\n",
        "for name, clf in classifiers.items():\n",
        "    accuracy, precision, recall = train_and_evaluate(clf, X_train, Y_train, X_test, Y_test)\n",
        "    results[name] = {'accuracy': accuracy, 'precision': precision, 'recall': recall}"
      ]
    },
    {
      "cell_type": "code",
      "execution_count": 46,
      "metadata": {
        "colab": {
          "base_uri": "https://localhost:8080/"
        },
        "id": "qV_-giyBcvmH",
        "outputId": "6ae3601c-86fb-4c44-b51b-7621acbf4f2e"
      },
      "outputs": [
        {
          "name": "stdout",
          "output_type": "stream",
          "text": [
            "Classifier: relu_constant_lbfgs\n",
            "  Accuracy: 0.8379888268156425\n",
            "  Precision: 0.8169014084507042\n",
            "  Recall: 0.7837837837837838\n",
            "\n",
            "Classifier: relu_constant_sgd\n",
            "  Accuracy: 0.7988826815642458\n",
            "  Precision: 0.7794117647058824\n",
            "  Recall: 0.7162162162162162\n",
            "\n",
            "Classifier: relu_constant_adam\n",
            "  Accuracy: 0.8324022346368715\n",
            "  Precision: 0.8666666666666667\n",
            "  Recall: 0.7027027027027027\n",
            "\n",
            "Classifier: relu_invscaling_lbfgs\n",
            "  Accuracy: 0.8547486033519553\n",
            "  Precision: 0.8333333333333334\n",
            "  Recall: 0.8108108108108109\n",
            "\n",
            "Classifier: relu_invscaling_sgd\n",
            "  Accuracy: 0.4245810055865922\n",
            "  Precision: 0.41714285714285715\n",
            "  Recall: 0.9864864864864865\n",
            "\n",
            "Classifier: relu_invscaling_adam\n",
            "  Accuracy: 0.8324022346368715\n",
            "  Precision: 0.8666666666666667\n",
            "  Recall: 0.7027027027027027\n",
            "\n",
            "Classifier: relu_adaptive_lbfgs\n",
            "  Accuracy: 0.8491620111731844\n",
            "  Precision: 0.8507462686567164\n",
            "  Recall: 0.7702702702702703\n",
            "\n",
            "Classifier: relu_adaptive_sgd\n",
            "  Accuracy: 0.8100558659217877\n",
            "  Precision: 0.7857142857142857\n",
            "  Recall: 0.7432432432432432\n",
            "\n",
            "Classifier: relu_adaptive_adam\n",
            "  Accuracy: 0.8268156424581006\n",
            "  Precision: 0.8524590163934426\n",
            "  Recall: 0.7027027027027027\n",
            "\n",
            "Classifier: tanh_constant_lbfgs\n",
            "  Accuracy: 0.8435754189944135\n",
            "  Precision: 0.8382352941176471\n",
            "  Recall: 0.7702702702702703\n",
            "\n",
            "Classifier: tanh_constant_sgd\n",
            "  Accuracy: 0.8156424581005587\n",
            "  Precision: 0.7887323943661971\n",
            "  Recall: 0.7567567567567568\n",
            "\n",
            "Classifier: tanh_constant_adam\n",
            "  Accuracy: 0.8324022346368715\n",
            "  Precision: 0.8548387096774194\n",
            "  Recall: 0.7162162162162162\n",
            "\n",
            "Classifier: tanh_invscaling_lbfgs\n",
            "  Accuracy: 0.8435754189944135\n",
            "  Precision: 0.8382352941176471\n",
            "  Recall: 0.7702702702702703\n",
            "\n",
            "Classifier: tanh_invscaling_sgd\n",
            "  Accuracy: 0.5977653631284916\n",
            "  Precision: 1.0\n",
            "  Recall: 0.02702702702702703\n",
            "\n",
            "Classifier: tanh_invscaling_adam\n",
            "  Accuracy: 0.8268156424581006\n",
            "  Precision: 0.8412698412698413\n",
            "  Recall: 0.7162162162162162\n",
            "\n",
            "Classifier: tanh_adaptive_lbfgs\n",
            "  Accuracy: 0.8379888268156425\n",
            "  Precision: 0.8260869565217391\n",
            "  Recall: 0.7702702702702703\n",
            "\n",
            "Classifier: tanh_adaptive_sgd\n",
            "  Accuracy: 0.8100558659217877\n",
            "  Precision: 0.7941176470588235\n",
            "  Recall: 0.7297297297297297\n",
            "\n",
            "Classifier: tanh_adaptive_adam\n",
            "  Accuracy: 0.8324022346368715\n",
            "  Precision: 0.8548387096774194\n",
            "  Recall: 0.7162162162162162\n",
            "\n",
            "Classifier: identity_constant_lbfgs\n",
            "  Accuracy: 0.8603351955307262\n",
            "  Precision: 0.8450704225352113\n",
            "  Recall: 0.8108108108108109\n",
            "\n",
            "Classifier: identity_constant_sgd\n",
            "  Accuracy: 0.8156424581005587\n",
            "  Precision: 0.7971014492753623\n",
            "  Recall: 0.7432432432432432\n",
            "\n",
            "Classifier: identity_constant_adam\n",
            "  Accuracy: 0.8268156424581006\n",
            "  Precision: 0.8524590163934426\n",
            "  Recall: 0.7027027027027027\n",
            "\n",
            "Classifier: identity_invscaling_lbfgs\n",
            "  Accuracy: 0.8603351955307262\n",
            "  Precision: 0.8450704225352113\n",
            "  Recall: 0.8108108108108109\n",
            "\n",
            "Classifier: identity_invscaling_sgd\n",
            "  Accuracy: 0.547486033519553\n",
            "  Precision: 0.0\n",
            "  Recall: 0.0\n",
            "\n",
            "Classifier: identity_invscaling_adam\n",
            "  Accuracy: 0.8324022346368715\n",
            "  Precision: 0.8666666666666667\n",
            "  Recall: 0.7027027027027027\n",
            "\n",
            "Classifier: identity_adaptive_lbfgs\n",
            "  Accuracy: 0.8603351955307262\n",
            "  Precision: 0.8356164383561644\n",
            "  Recall: 0.8243243243243243\n",
            "\n",
            "Classifier: identity_adaptive_sgd\n",
            "  Accuracy: 0.8156424581005587\n",
            "  Precision: 0.8059701492537313\n",
            "  Recall: 0.7297297297297297\n",
            "\n",
            "Classifier: identity_adaptive_adam\n",
            "  Accuracy: 0.8268156424581006\n",
            "  Precision: 0.8524590163934426\n",
            "  Recall: 0.7027027027027027\n",
            "\n",
            "Classifier: logistic_constant_lbfgs\n",
            "  Accuracy: 0.8435754189944135\n",
            "  Precision: 0.8382352941176471\n",
            "  Recall: 0.7702702702702703\n",
            "\n",
            "Classifier: logistic_constant_sgd\n",
            "  Accuracy: 0.5865921787709497\n",
            "  Precision: 0.0\n",
            "  Recall: 0.0\n",
            "\n",
            "Classifier: logistic_constant_adam\n",
            "  Accuracy: 0.8324022346368715\n",
            "  Precision: 0.8548387096774194\n",
            "  Recall: 0.7162162162162162\n",
            "\n",
            "Classifier: logistic_invscaling_lbfgs\n",
            "  Accuracy: 0.8603351955307262\n",
            "  Precision: 0.8266666666666667\n",
            "  Recall: 0.8378378378378378\n",
            "\n",
            "Classifier: logistic_invscaling_sgd\n",
            "  Accuracy: 0.5865921787709497\n",
            "  Precision: 0.0\n",
            "  Recall: 0.0\n",
            "\n",
            "Classifier: logistic_invscaling_adam\n",
            "  Accuracy: 0.8268156424581006\n",
            "  Precision: 0.8524590163934426\n",
            "  Recall: 0.7027027027027027\n",
            "\n",
            "Classifier: logistic_adaptive_lbfgs\n",
            "  Accuracy: 0.8491620111731844\n",
            "  Precision: 0.8051948051948052\n",
            "  Recall: 0.8378378378378378\n",
            "\n",
            "Classifier: logistic_adaptive_sgd\n",
            "  Accuracy: 0.5865921787709497\n",
            "  Precision: 0.0\n",
            "  Recall: 0.0\n",
            "\n",
            "Classifier: logistic_adaptive_adam\n",
            "  Accuracy: 0.8324022346368715\n",
            "  Precision: 0.8548387096774194\n",
            "  Recall: 0.7162162162162162\n",
            "\n"
          ]
        }
      ],
      "source": [
        "# Exibindo os resultados\n",
        "for name, metrics in results.items():\n",
        "    print(f\"Classifier: {name}\")\n",
        "    print(f\"  Accuracy: {metrics['accuracy']}\")\n",
        "    print(f\"  Precision: {metrics['precision']}\")\n",
        "    print(f\"  Recall: {metrics['recall']}\")\n",
        "    print()"
      ]
    },
    {
      "cell_type": "code",
      "execution_count": 51,
      "metadata": {
        "id": "I8FCZz5IcvmI"
      },
      "outputs": [],
      "source": [
        "# Dicionário para armazenar os novos resultados\n",
        "new_results2 = {}\n",
        "\n",
        "# Adicionando mais uma camada\n",
        "classifiers = {\n",
        "    'relu_constant_lbfgs': MLPClassifier(hidden_layer_sizes=(100, 50), activation='relu', learning_rate='constant', solver='lbfgs', max_iter=1000),\n",
        "    'relu_constant_sgd': MLPClassifier(hidden_layer_sizes=(100, 50), activation='relu', learning_rate='constant', solver='sgd', max_iter=1000),\n",
        "    'relu_constant_adam': MLPClassifier(hidden_layer_sizes=(100, 50), activation='relu', learning_rate='constant', solver='adam', max_iter=1000),\n",
        "    'relu_invscaling_lbfgs': MLPClassifier(hidden_layer_sizes=(100, 50), activation='relu', learning_rate='invscaling', solver='lbfgs', max_iter=1000),\n",
        "    'relu_invscaling_sgd': MLPClassifier(hidden_layer_sizes=(100, 50), activation='relu', learning_rate='invscaling', solver='sgd', max_iter=1000),\n",
        "    'relu_invscaling_adam': MLPClassifier(hidden_layer_sizes=(100, 50), activation='relu', learning_rate='invscaling', solver='adam', max_iter=1000),\n",
        "    'relu_adaptive_lbfgs': MLPClassifier(hidden_layer_sizes=(100, 50), activation='relu', learning_rate='adaptive', solver='lbfgs', max_iter=1000),\n",
        "    'relu_adaptive_sgd': MLPClassifier(hidden_layer_sizes=(100, 50), activation='relu', learning_rate='adaptive', solver='sgd', max_iter=1000),\n",
        "    'relu_adaptive_adam': MLPClassifier(hidden_layer_sizes=(100, 50), activation='relu', learning_rate='adaptive', solver='adam', max_iter=1000),\n",
        "    'tanh_constant_lbfgs': MLPClassifier(hidden_layer_sizes=(100, 50), activation='tanh', learning_rate='constant', solver='lbfgs', max_iter=1000),\n",
        "    'tanh_constant_sgd': MLPClassifier(hidden_layer_sizes=(100, 50), activation='tanh', learning_rate='constant', solver='sgd', max_iter=1000),\n",
        "    'tanh_constant_adam': MLPClassifier(hidden_layer_sizes=(100, 50), activation='tanh', learning_rate='constant', solver='adam', max_iter=1000),\n",
        "    'tanh_invscaling_lbfgs': MLPClassifier(hidden_layer_sizes=(100, 50), activation='tanh', learning_rate='invscaling', solver='lbfgs', max_iter=1000),\n",
        "    'tanh_invscaling_sgd': MLPClassifier(hidden_layer_sizes=(100, 50), activation='tanh', learning_rate='invscaling', solver='sgd', max_iter=1000),\n",
        "    'tanh_invscaling_adam': MLPClassifier(hidden_layer_sizes=(100, 50), activation='tanh', learning_rate='invscaling', solver='adam', max_iter=1000),\n",
        "    'tanh_adaptive_lbfgs': MLPClassifier(hidden_layer_sizes=(100, 50), activation='tanh', learning_rate='adaptive', solver='lbfgs', max_iter=1000),\n",
        "    'tanh_adaptive_sgd': MLPClassifier(hidden_layer_sizes=(100, 50), activation='tanh', learning_rate='adaptive', solver='sgd', max_iter=1000),\n",
        "    'tanh_adaptive_adam': MLPClassifier(hidden_layer_sizes=(100, 50), activation='tanh', learning_rate='adaptive', solver='adam', max_iter=1000),\n",
        "    'identity_constant_lbfgs': MLPClassifier(hidden_layer_sizes=(100, 50), activation='identity', learning_rate='constant', solver='lbfgs', max_iter=1000),\n",
        "    'identity_constant_sgd': MLPClassifier(hidden_layer_sizes=(100, 50), activation='identity', learning_rate='constant', solver='sgd', max_iter=1000),\n",
        "    'identity_constant_adam': MLPClassifier(hidden_layer_sizes=(100, 50), activation='identity', learning_rate='constant', solver='adam', max_iter=1000),\n",
        "    'identity_invscaling_lbfgs': MLPClassifier(hidden_layer_sizes=(100, 50), activation='identity', learning_rate='invscaling', solver='lbfgs', max_iter=1000),\n",
        "    'identity_invscaling_sgd': MLPClassifier(hidden_layer_sizes=(100, 50), activation='identity', learning_rate='invscaling', solver='sgd', max_iter=1000),\n",
        "    'identity_invscaling_adam': MLPClassifier(hidden_layer_sizes=(100, 50), activation='identity', learning_rate='invscaling', solver='adam', max_iter=1000),\n",
        "    'identity_adaptive_lbfgs': MLPClassifier(hidden_layer_sizes=(100, 50), activation='identity', learning_rate='adaptive', solver='lbfgs', max_iter=1000),\n",
        "    'identity_adaptive_sgd': MLPClassifier(hidden_layer_sizes=(100, 50), activation='identity', learning_rate='adaptive', solver='sgd', max_iter=1000),\n",
        "    'identity_adaptive_adam': MLPClassifier(hidden_layer_sizes=(100, 50), activation='identity', learning_rate='adaptive', solver='adam', max_iter=1000),\n",
        "    'logistic_constant_lbfgs': MLPClassifier(hidden_layer_sizes=(100, 50), activation='logistic', learning_rate='constant', solver='lbfgs', max_iter=1000),\n",
        "    'logistic_constant_sgd': MLPClassifier(hidden_layer_sizes=(100, 50), activation='logistic', learning_rate='constant', solver='sgd', max_iter=1000),\n",
        "    'logistic_constant_adam': MLPClassifier(hidden_layer_sizes=(100, 50), activation='logistic', learning_rate='constant', solver='adam', max_iter=1000),\n",
        "    'logistic_invscaling_lbfgs': MLPClassifier(hidden_layer_sizes=(100, 50), activation='logistic', learning_rate='invscaling', solver='lbfgs', max_iter=1000),\n",
        "    'logistic_invscaling_sgd': MLPClassifier(hidden_layer_sizes=(100, 50), activation='logistic', learning_rate='invscaling', solver='sgd', max_iter=1000),\n",
        "    'logistic_invscaling_adam': MLPClassifier(hidden_layer_sizes=(100, 50), activation='logistic', learning_rate='invscaling', solver='adam', max_iter=1000),\n",
        "    'logistic_adaptive_lbfgs': MLPClassifier(hidden_layer_sizes=(100, 50), activation='logistic', learning_rate='adaptive', solver='lbfgs', max_iter=1000),\n",
        "    'logistic_adaptive_sgd': MLPClassifier(hidden_layer_sizes=(100, 50), activation='logistic', learning_rate='adaptive', solver='sgd', max_iter=1000),\n",
        "    'logistic_adaptive_adam': MLPClassifier(hidden_layer_sizes=(100, 50), activation='logistic', learning_rate='adaptive', solver='adam', max_iter=1000)\n",
        "}"
      ]
    },
    {
      "cell_type": "code",
      "execution_count": 52,
      "metadata": {
        "id": "Y4FW4X1QcvmI"
      },
      "outputs": [
        {
          "name": "stderr",
          "output_type": "stream",
          "text": [
            "/home/lypess/.local/lib/python3.10/site-packages/sklearn/neural_network/_multilayer_perceptron.py:691: ConvergenceWarning: Stochastic Optimizer: Maximum iterations (1000) reached and the optimization hasn't converged yet.\n",
            "  warnings.warn(\n",
            "/home/lypess/.local/lib/python3.10/site-packages/sklearn/metrics/_classification.py:1509: UndefinedMetricWarning: Precision is ill-defined and being set to 0.0 due to no predicted samples. Use `zero_division` parameter to control this behavior.\n",
            "  _warn_prf(average, modifier, f\"{metric.capitalize()} is\", len(result))\n",
            "/home/lypess/.local/lib/python3.10/site-packages/sklearn/neural_network/_multilayer_perceptron.py:691: ConvergenceWarning: Stochastic Optimizer: Maximum iterations (1000) reached and the optimization hasn't converged yet.\n",
            "  warnings.warn(\n",
            "/home/lypess/.local/lib/python3.10/site-packages/sklearn/neural_network/_multilayer_perceptron.py:691: ConvergenceWarning: Stochastic Optimizer: Maximum iterations (1000) reached and the optimization hasn't converged yet.\n",
            "  warnings.warn(\n",
            "/home/lypess/.local/lib/python3.10/site-packages/sklearn/neural_network/_multilayer_perceptron.py:691: ConvergenceWarning: Stochastic Optimizer: Maximum iterations (1000) reached and the optimization hasn't converged yet.\n",
            "  warnings.warn(\n",
            "/home/lypess/.local/lib/python3.10/site-packages/sklearn/neural_network/_multilayer_perceptron.py:691: ConvergenceWarning: Stochastic Optimizer: Maximum iterations (1000) reached and the optimization hasn't converged yet.\n",
            "  warnings.warn(\n",
            "/home/lypess/.local/lib/python3.10/site-packages/sklearn/neural_network/_multilayer_perceptron.py:691: ConvergenceWarning: Stochastic Optimizer: Maximum iterations (1000) reached and the optimization hasn't converged yet.\n",
            "  warnings.warn(\n",
            "/home/lypess/.local/lib/python3.10/site-packages/sklearn/metrics/_classification.py:1509: UndefinedMetricWarning: Precision is ill-defined and being set to 0.0 due to no predicted samples. Use `zero_division` parameter to control this behavior.\n",
            "  _warn_prf(average, modifier, f\"{metric.capitalize()} is\", len(result))\n",
            "/home/lypess/.local/lib/python3.10/site-packages/sklearn/metrics/_classification.py:1509: UndefinedMetricWarning: Precision is ill-defined and being set to 0.0 due to no predicted samples. Use `zero_division` parameter to control this behavior.\n",
            "  _warn_prf(average, modifier, f\"{metric.capitalize()} is\", len(result))\n"
          ]
        }
      ],
      "source": [
        "# Calculando e armazenando as métricas\n",
        "for name, clf in classifiers.items():\n",
        "    accuracy, precision, recall = train_and_evaluate(clf, X_train, Y_train, X_test, Y_test)\n",
        "    new_results2[name] = {'accuracy': accuracy, 'precision': precision, 'recall': recall}"
      ]
    },
    {
      "cell_type": "code",
      "execution_count": 53,
      "metadata": {
        "colab": {
          "base_uri": "https://localhost:8080/"
        },
        "id": "iCWjRKHScvmI",
        "outputId": "d50a087b-79f8-40db-d1ba-e492b7f21247"
      },
      "outputs": [
        {
          "name": "stdout",
          "output_type": "stream",
          "text": [
            "Classifier: relu_constant_lbfgs\n",
            "  Accuracy: 0.8491620111731844\n",
            "  Precision: 0.8051948051948052\n",
            "  Recall: 0.8378378378378378\n",
            "\n",
            "Classifier: relu_constant_sgd\n",
            "  Accuracy: 0.8379888268156425\n",
            "  Precision: 0.835820895522388\n",
            "  Recall: 0.7567567567567568\n",
            "\n",
            "Classifier: relu_constant_adam\n",
            "  Accuracy: 0.8324022346368715\n",
            "  Precision: 0.8548387096774194\n",
            "  Recall: 0.7162162162162162\n",
            "\n",
            "Classifier: relu_invscaling_lbfgs\n",
            "  Accuracy: 0.8435754189944135\n",
            "  Precision: 0.7948717948717948\n",
            "  Recall: 0.8378378378378378\n",
            "\n",
            "Classifier: relu_invscaling_sgd\n",
            "  Accuracy: 0.5865921787709497\n",
            "  Precision: 0.0\n",
            "  Recall: 0.0\n",
            "\n",
            "Classifier: relu_invscaling_adam\n",
            "  Accuracy: 0.8324022346368715\n",
            "  Precision: 0.8666666666666667\n",
            "  Recall: 0.7027027027027027\n",
            "\n",
            "Classifier: relu_adaptive_lbfgs\n",
            "  Accuracy: 0.8603351955307262\n",
            "  Precision: 0.8356164383561644\n",
            "  Recall: 0.8243243243243243\n",
            "\n",
            "Classifier: relu_adaptive_sgd\n",
            "  Accuracy: 0.8268156424581006\n",
            "  Precision: 0.8028169014084507\n",
            "  Recall: 0.7702702702702703\n",
            "\n",
            "Classifier: relu_adaptive_adam\n",
            "  Accuracy: 0.8324022346368715\n",
            "  Precision: 0.8666666666666667\n",
            "  Recall: 0.7027027027027027\n",
            "\n",
            "Classifier: tanh_constant_lbfgs\n",
            "  Accuracy: 0.8603351955307262\n",
            "  Precision: 0.8356164383561644\n",
            "  Recall: 0.8243243243243243\n",
            "\n",
            "Classifier: tanh_constant_sgd\n",
            "  Accuracy: 0.8324022346368715\n",
            "  Precision: 0.8142857142857143\n",
            "  Recall: 0.7702702702702703\n",
            "\n",
            "Classifier: tanh_constant_adam\n",
            "  Accuracy: 0.8268156424581006\n",
            "  Precision: 0.8412698412698413\n",
            "  Recall: 0.7162162162162162\n",
            "\n",
            "Classifier: tanh_invscaling_lbfgs\n",
            "  Accuracy: 0.8435754189944135\n",
            "  Precision: 0.8194444444444444\n",
            "  Recall: 0.7972972972972973\n",
            "\n",
            "Classifier: tanh_invscaling_sgd\n",
            "  Accuracy: 0.6368715083798883\n",
            "  Precision: 0.5692307692307692\n",
            "  Recall: 0.5\n",
            "\n",
            "Classifier: tanh_invscaling_adam\n",
            "  Accuracy: 0.8268156424581006\n",
            "  Precision: 0.8412698412698413\n",
            "  Recall: 0.7162162162162162\n",
            "\n",
            "Classifier: tanh_adaptive_lbfgs\n",
            "  Accuracy: 0.8603351955307262\n",
            "  Precision: 0.8450704225352113\n",
            "  Recall: 0.8108108108108109\n",
            "\n",
            "Classifier: tanh_adaptive_sgd\n",
            "  Accuracy: 0.7932960893854749\n",
            "  Precision: 0.7761194029850746\n",
            "  Recall: 0.7027027027027027\n",
            "\n",
            "Classifier: tanh_adaptive_adam\n",
            "  Accuracy: 0.8324022346368715\n",
            "  Precision: 0.8666666666666667\n",
            "  Recall: 0.7027027027027027\n",
            "\n",
            "Classifier: identity_constant_lbfgs\n",
            "  Accuracy: 0.8491620111731844\n",
            "  Precision: 0.8405797101449275\n",
            "  Recall: 0.7837837837837838\n",
            "\n",
            "Classifier: identity_constant_sgd\n",
            "  Accuracy: 0.8324022346368715\n",
            "  Precision: 0.8055555555555556\n",
            "  Recall: 0.7837837837837838\n",
            "\n",
            "Classifier: identity_constant_adam\n",
            "  Accuracy: 0.8268156424581006\n",
            "  Precision: 0.8524590163934426\n",
            "  Recall: 0.7027027027027027\n",
            "\n",
            "Classifier: identity_invscaling_lbfgs\n",
            "  Accuracy: 0.8659217877094972\n",
            "  Precision: 0.8571428571428571\n",
            "  Recall: 0.8108108108108109\n",
            "\n",
            "Classifier: identity_invscaling_sgd\n",
            "  Accuracy: 0.5027932960893855\n",
            "  Precision: 0.45098039215686275\n",
            "  Recall: 0.9324324324324325\n",
            "\n",
            "Classifier: identity_invscaling_adam\n",
            "  Accuracy: 0.8268156424581006\n",
            "  Precision: 0.8412698412698413\n",
            "  Recall: 0.7162162162162162\n",
            "\n",
            "Classifier: identity_adaptive_lbfgs\n",
            "  Accuracy: 0.8547486033519553\n",
            "  Precision: 0.8333333333333334\n",
            "  Recall: 0.8108108108108109\n",
            "\n",
            "Classifier: identity_adaptive_sgd\n",
            "  Accuracy: 0.8435754189944135\n",
            "  Precision: 0.8484848484848485\n",
            "  Recall: 0.7567567567567568\n",
            "\n",
            "Classifier: identity_adaptive_adam\n",
            "  Accuracy: 0.8268156424581006\n",
            "  Precision: 0.8412698412698413\n",
            "  Recall: 0.7162162162162162\n",
            "\n",
            "Classifier: logistic_constant_lbfgs\n",
            "  Accuracy: 0.8491620111731844\n",
            "  Precision: 0.873015873015873\n",
            "  Recall: 0.7432432432432432\n",
            "\n",
            "Classifier: logistic_constant_sgd\n",
            "  Accuracy: 0.5865921787709497\n",
            "  Precision: 0.0\n",
            "  Recall: 0.0\n",
            "\n",
            "Classifier: logistic_constant_adam\n",
            "  Accuracy: 0.8379888268156425\n",
            "  Precision: 0.8688524590163934\n",
            "  Recall: 0.7162162162162162\n",
            "\n",
            "Classifier: logistic_invscaling_lbfgs\n",
            "  Accuracy: 0.8268156424581006\n",
            "  Precision: 0.8524590163934426\n",
            "  Recall: 0.7027027027027027\n",
            "\n",
            "Classifier: logistic_invscaling_sgd\n",
            "  Accuracy: 0.4134078212290503\n",
            "  Precision: 0.4134078212290503\n",
            "  Recall: 1.0\n",
            "\n",
            "Classifier: logistic_invscaling_adam\n",
            "  Accuracy: 0.8268156424581006\n",
            "  Precision: 0.8412698412698413\n",
            "  Recall: 0.7162162162162162\n",
            "\n",
            "Classifier: logistic_adaptive_lbfgs\n",
            "  Accuracy: 0.8491620111731844\n",
            "  Precision: 0.7974683544303798\n",
            "  Recall: 0.8513513513513513\n",
            "\n",
            "Classifier: logistic_adaptive_sgd\n",
            "  Accuracy: 0.5865921787709497\n",
            "  Precision: 0.0\n",
            "  Recall: 0.0\n",
            "\n",
            "Classifier: logistic_adaptive_adam\n",
            "  Accuracy: 0.8379888268156425\n",
            "  Precision: 0.8688524590163934\n",
            "  Recall: 0.7162162162162162\n",
            "\n"
          ]
        }
      ],
      "source": [
        "# Exibindo os resultados\n",
        "for name, metrics in new_results2.items():\n",
        "    print(f\"Classifier: {name}\")\n",
        "    print(f\"  Accuracy: {metrics['accuracy']}\")\n",
        "    print(f\"  Precision: {metrics['precision']}\")\n",
        "    print(f\"  Recall: {metrics['recall']}\")\n",
        "    print()"
      ]
    },
    {
      "cell_type": "markdown",
      "metadata": {},
      "source": [
        "Para determinar qual conjunto de resultados de classificadores foi o melhor entre os dois conjuntos apresentados, consideraremos as métricas de avaliação: accuracy (acurácia), precision (precisão) e recall (recobertura). A seguir, faremos uma análise detalhada de cada métrica.\n",
        "Análise de Métricas\n",
        "\n",
        "## Accuracy\n",
        "\n",
        "A acurácia mede a proporção de previsões corretas em relação ao total de previsões feitas.\n",
        "\n",
        "    Resultado 1: A acurácia máxima foi de 86.03% (identity_constant_lbfgs, identity_invscaling_lbfgs).\n",
        "    Resultado 2: A acurácia máxima foi de 86.59% (identity_invscaling_lbfgs).\n",
        "\n",
        "## Precision\n",
        "\n",
        "A precisão é a proporção de previsões positivas corretas em relação ao total de previsões positivas feitas.\n",
        "\n",
        "    Resultado 1: A precisão máxima foi de 100% (tanh_invscaling_sgd).\n",
        "    Resultado 2: A precisão máxima foi de 87.30% (logistic_constant_lbfgs).\n",
        "\n",
        "## Recall\n",
        "\n",
        "O recall é a proporção de verdadeiros positivos identificados corretamente em relação ao total de positivos reais.\n",
        "\n",
        "    Resultado 1: O recall máximo foi de 98.65% (relu_invscaling_sgd).\n",
        "    Resultado 2: O recall máximo foi de 100% (logistic_invscaling_sgd).\n",
        "\n",
        "# Discussão\n",
        "\n",
        "Com base nas métricas acima, o conjunto de resultados 2 apresenta valores ligeiramente superiores em termos de acurácia e recall, sendo 86.59% para acurácia e 100% para recall. No entanto, devemos considerar que algumas combinações no conjunto de resultados 1 apresentam alta precisão e acurácia, como identity_constant_lbfgs, que possui 86.03% de acurácia e 84.51% de precisão.\n",
        "\n",
        "## Considerações na Literatura\n",
        "\n",
        "A literatura em aprendizado de máquina enfatiza que a escolha do melhor modelo não deve ser feita apenas com base em uma única métrica, mas sim em um equilíbrio entre várias métricas, dependendo do contexto da aplicação. Por exemplo, em cenários onde a detecção de todos os positivos é crucial (como em diagnósticos médicos), o recall pode ser mais importante do que a precisão [2,3,4].\n",
        "\n",
        "Além disso, métodos de otimização como Grid Search ou Random Search podem ser utilizados para ajustar hiperparâmetros e encontrar a melhor combinação de métricas."
      ]
    },
    {
      "cell_type": "markdown",
      "metadata": {},
      "source": [
        "Referências Bibliograficas:\n",
        "\n",
        "[1] SCIKIT-LEARN. Multi-layer Perceptron classifier. Disponível em: https://scikit-learn.org/stable/modules/generated/sklearn.neural_network.MLPClassifier.html. Acesso em: 24/06/2024.\n",
        "\n",
        "[2] BISHOP, Christopher M. Pattern Recognition and Machine Learning. 1. ed. New York: Springer, 2006. ISBN 978-0-387-31073-2.\n",
        "\n",
        "[3] GOODFELLOW, Ian; BENGIO, Yoshua; COURVILLE, Aaron. Deep Learning. 1. ed. Cambridge: MIT Press, 2016. ISBN 978-0-262-03561-3.\n",
        "\n",
        "[4] PEDREGOSA, Fabian et al. Scikit-learn: Machine Learning in Python. Journal of Machine Learning Research, v. 12, p. 2825-2830, 2011. Disponível em: http://jmlr.csail.mit.edu/papers/volume12/pedregosa11a/pedregosa11a.pdf. Acesso em: 24/06/2024."
      ]
    }
  ],
  "metadata": {
    "colab": {
      "provenance": []
    },
    "kernelspec": {
      "display_name": "Python 3 (ipykernel)",
      "language": "python",
      "name": "python3"
    },
    "language_info": {
      "codemirror_mode": {
        "name": "ipython",
        "version": 3
      },
      "file_extension": ".py",
      "mimetype": "text/x-python",
      "name": "python",
      "nbconvert_exporter": "python",
      "pygments_lexer": "ipython3",
      "version": "3.10.12"
    }
  },
  "nbformat": 4,
  "nbformat_minor": 0
}
